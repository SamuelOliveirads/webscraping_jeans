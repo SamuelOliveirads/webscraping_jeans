{
 "cells": [
  {
   "cell_type": "markdown",
   "id": "5eaa1ac2",
   "metadata": {
    "heading_collapsed": true
   },
   "source": [
    "# Questão de Negócio"
   ]
  },
  {
   "cell_type": "markdown",
   "id": "2fbd05c7",
   "metadata": {
    "hidden": true
   },
   "source": [
    "A empresa Star Jeans! Eduardo e Marcelo são dois brasileiros, amigos e sócios de empreendimento. \n",
    "\n",
    "Depois de vários negócio bem sucedidos, eles estão planejando entrar no mercado de moda\n",
    "dos USA como um modelo de negócio do tipo E-commerce.\n",
    "\n",
    "A idéia inicial é entrar no mercado com apenas um produto e para um público específico, no caso\n",
    "o produto seria calças Jenas para o público masculino. O objetivo é manter o custo de operação\n",
    "baixo e escalar a medida que forem conseguindo clientes.\n",
    "\n",
    "Porém, mesmo com o produto de entrada e a audiência definidos, os dois sócios não tem experiência\n",
    "nesse mercado de moda e portanto não sabem definir coisas básicas como preço, o tipo de calça e\n",
    "o material para a fabricação de cada peça.\n",
    "\n",
    "Assim, os dois sócios contrataram uma consultoria de Ciência de Dados para responder as seguintes\n",
    "perguntas: \n",
    "1. Qual o melhor preço de venda para as calças? \n",
    "2. Quantos tipos de calças e suas cores para o produto inicial? \n",
    "3. Quais as matérias-prima necessárias para confeccionar as calças?\n",
    "\n",
    "As principais concorrentes da empresa Start Jeans são as americadas H&M e Macys."
   ]
  },
  {
   "cell_type": "markdown",
   "id": "36a60f16",
   "metadata": {
    "heading_collapsed": true
   },
   "source": [
    "# 0.0 Imports\n"
   ]
  },
  {
   "cell_type": "code",
   "execution_count": 1,
   "id": "0774dc6a",
   "metadata": {
    "ExecuteTime": {
     "end_time": "2022-07-25T22:53:44.001402Z",
     "start_time": "2022-07-25T22:53:41.844047Z"
    },
    "hidden": true
   },
   "outputs": [],
   "source": [
    "import requests\n",
    "import numpy as np\n",
    "import pandas as pd\n",
    "import seaborn as sns\n",
    "\n",
    "from datetime import datetime\n",
    "from bs4 import BeautifulSoup\n",
    "from matplotlib import pyplot as plt\n",
    "from IPython.core.display import HTML"
   ]
  },
  {
   "cell_type": "markdown",
   "id": "3b7ac345",
   "metadata": {
    "hidden": true
   },
   "source": [
    "## 0.1 Helper Functions "
   ]
  },
  {
   "cell_type": "code",
   "execution_count": 2,
   "id": "89b2bba1",
   "metadata": {
    "ExecuteTime": {
     "end_time": "2022-07-25T22:53:44.017393Z",
     "start_time": "2022-07-25T22:53:44.003390Z"
    },
    "hidden": true
   },
   "outputs": [],
   "source": [
    "def jupyter_settings():\n",
    "    %matplotlib inline\n",
    "    plt.style.use('bmh')\n",
    "    plt.rcParams['figure.figsize'] = [25,12]\n",
    "    plt.rcParams['font.size'] = 24\n",
    "    plt.rcParams['figure.dpi'] = 100\n",
    "    \n",
    "    display( HTML( '<style>.container{width:100% !important; }</style>'))\n",
    "    pd.set_option('display.float_format', lambda x: '%.2f' % x)\n",
    "    \n",
    "    # ignora future warnings\n",
    "    #warnings.filterwarnings('ignore')\n",
    "    \n",
    "    sns.set()"
   ]
  },
  {
   "cell_type": "code",
   "execution_count": 3,
   "id": "479a6ce8",
   "metadata": {
    "ExecuteTime": {
     "end_time": "2022-07-25T22:53:44.033375Z",
     "start_time": "2022-07-25T22:53:44.022380Z"
    },
    "hidden": true
   },
   "outputs": [
    {
     "data": {
      "text/html": [
       "<style>.container{width:100% !important; }</style>"
      ],
      "text/plain": [
       "<IPython.core.display.HTML object>"
      ]
     },
     "metadata": {},
     "output_type": "display_data"
    }
   ],
   "source": [
    "jupyter_settings()"
   ]
  },
  {
   "cell_type": "markdown",
   "id": "8614dd80",
   "metadata": {},
   "source": [
    "# 1.0 Extração de dados em HTML"
   ]
  },
  {
   "cell_type": "code",
   "execution_count": 4,
   "id": "5a32d5a6",
   "metadata": {
    "ExecuteTime": {
     "end_time": "2022-07-25T22:53:44.761133Z",
     "start_time": "2022-07-25T22:53:44.038371Z"
    }
   },
   "outputs": [],
   "source": [
    "# make request\n",
    "url = 'https://www2.hm.com/en_us/men/products/jeans.html'\n",
    "\n",
    "headers = {'User-Agent': 'Mozilla/5.0 {Macintosh; Intel Mac Os X 10_11_5) AppleWebKit/537.36 (KHTML, like Gecko) Chrome/50.0.2661.102 Safari/537.36}'}\n",
    "page = requests.get(url, headers=headers)"
   ]
  },
  {
   "cell_type": "code",
   "execution_count": 5,
   "id": "85628da2",
   "metadata": {
    "ExecuteTime": {
     "end_time": "2022-07-25T22:53:44.950063Z",
     "start_time": "2022-07-25T22:53:44.767137Z"
    }
   },
   "outputs": [],
   "source": [
    "soup = BeautifulSoup(page.text, \"html.parser\")"
   ]
  },
  {
   "cell_type": "code",
   "execution_count": 6,
   "id": "6e7f6ac9",
   "metadata": {
    "ExecuteTime": {
     "end_time": "2022-07-25T22:53:44.966058Z",
     "start_time": "2022-07-25T22:53:44.952062Z"
    }
   },
   "outputs": [],
   "source": [
    "# extract all products\n",
    "products = soup.find('ul', class_='products-listing small')"
   ]
  },
  {
   "cell_type": "code",
   "execution_count": 7,
   "id": "6a6f3d2c",
   "metadata": {
    "ExecuteTime": {
     "end_time": "2022-07-25T22:53:44.982068Z",
     "start_time": "2022-07-25T22:53:44.969053Z"
    }
   },
   "outputs": [],
   "source": [
    "product_list = products.find_all('article', class_='hm-product-item')\n",
    "\n",
    "# product id\n",
    "product_id = [p.get('data-articlecode') for p in product_list]\n",
    "\n",
    "# product_category\n",
    "product_category = [p.get('data-category') for p in product_list]"
   ]
  },
  {
   "cell_type": "code",
   "execution_count": 8,
   "id": "3f44276f",
   "metadata": {
    "ExecuteTime": {
     "end_time": "2022-07-25T22:53:44.998122Z",
     "start_time": "2022-07-25T22:53:44.984069Z"
    }
   },
   "outputs": [],
   "source": [
    "# product name\n",
    "product_list = products.find_all('a', class_='link')\n",
    "product_name = [p.get_text() for p in product_list]"
   ]
  },
  {
   "cell_type": "code",
   "execution_count": 9,
   "id": "5637004c",
   "metadata": {
    "ExecuteTime": {
     "end_time": "2022-07-25T22:53:45.421010Z",
     "start_time": "2022-07-25T22:53:45.000106Z"
    }
   },
   "outputs": [],
   "source": [
    "# price\n",
    "product_list = products.find_all('span', class_='price regular')\n",
    "product_price = [p.get_text() for p in product_list]"
   ]
  },
  {
   "cell_type": "code",
   "execution_count": 10,
   "id": "f82fce4b",
   "metadata": {
    "ExecuteTime": {
     "end_time": "2022-07-25T22:53:45.654562Z",
     "start_time": "2022-07-25T22:53:45.425995Z"
    }
   },
   "outputs": [],
   "source": [
    "# product color"
   ]
  },
  {
   "cell_type": "code",
   "execution_count": 11,
   "id": "384d61a4",
   "metadata": {
    "ExecuteTime": {
     "end_time": "2022-07-25T22:53:45.891230Z",
     "start_time": "2022-07-25T22:53:45.658547Z"
    }
   },
   "outputs": [],
   "source": [
    "# product composition"
   ]
  },
  {
   "cell_type": "code",
   "execution_count": 12,
   "id": "4bbf9d66",
   "metadata": {
    "ExecuteTime": {
     "end_time": "2022-07-25T22:53:45.923225Z",
     "start_time": "2022-07-25T22:53:45.895215Z"
    }
   },
   "outputs": [],
   "source": [
    "# merge scrapy into data frame\n",
    "data = pd.DataFrame([product_id, product_category, product_name, product_price]).T\n",
    "data.columns = ['product_id', 'product_category', 'product_name', 'product_price']\n",
    "\n",
    "# scrapy datetime\n",
    "data['scrapy_datetime'] = datetime.now().strftime('%Y-%m-%d %H:%M:%S')"
   ]
  },
  {
   "cell_type": "code",
   "execution_count": 13,
   "id": "cd39e59c",
   "metadata": {
    "ExecuteTime": {
     "end_time": "2022-07-25T22:53:45.954194Z",
     "start_time": "2022-07-25T22:53:45.928222Z"
    }
   },
   "outputs": [
    {
     "data": {
      "text/html": [
       "<div>\n",
       "<style scoped>\n",
       "    .dataframe tbody tr th:only-of-type {\n",
       "        vertical-align: middle;\n",
       "    }\n",
       "\n",
       "    .dataframe tbody tr th {\n",
       "        vertical-align: top;\n",
       "    }\n",
       "\n",
       "    .dataframe thead th {\n",
       "        text-align: right;\n",
       "    }\n",
       "</style>\n",
       "<table border=\"1\" class=\"dataframe\">\n",
       "  <thead>\n",
       "    <tr style=\"text-align: right;\">\n",
       "      <th></th>\n",
       "      <th>product_id</th>\n",
       "      <th>product_category</th>\n",
       "      <th>product_name</th>\n",
       "      <th>product_price</th>\n",
       "      <th>scrapy_datetime</th>\n",
       "    </tr>\n",
       "  </thead>\n",
       "  <tbody>\n",
       "    <tr>\n",
       "      <th>0</th>\n",
       "      <td>0690449022</td>\n",
       "      <td>men_jeans_ripped</td>\n",
       "      <td>Skinny Jeans</td>\n",
       "      <td>$ 39.99</td>\n",
       "      <td>2022-07-25 19:53:45</td>\n",
       "    </tr>\n",
       "    <tr>\n",
       "      <th>1</th>\n",
       "      <td>1013317006</td>\n",
       "      <td>men_jeans_joggers</td>\n",
       "      <td>Hybrid Regular Tapered Joggers</td>\n",
       "      <td>$ 44.99</td>\n",
       "      <td>2022-07-25 19:53:45</td>\n",
       "    </tr>\n",
       "    <tr>\n",
       "      <th>2</th>\n",
       "      <td>0690449043</td>\n",
       "      <td>men_jeans_ripped</td>\n",
       "      <td>Skinny Jeans</td>\n",
       "      <td>$ 39.99</td>\n",
       "      <td>2022-07-25 19:53:45</td>\n",
       "    </tr>\n",
       "    <tr>\n",
       "      <th>3</th>\n",
       "      <td>1013317002</td>\n",
       "      <td>men_jeans_joggers</td>\n",
       "      <td>Hybrid Regular Tapered Joggers</td>\n",
       "      <td>$ 44.99</td>\n",
       "      <td>2022-07-25 19:53:45</td>\n",
       "    </tr>\n",
       "    <tr>\n",
       "      <th>4</th>\n",
       "      <td>0979945001</td>\n",
       "      <td>men_jeans_loose</td>\n",
       "      <td>Loose Jeans</td>\n",
       "      <td>$ 39.99</td>\n",
       "      <td>2022-07-25 19:53:45</td>\n",
       "    </tr>\n",
       "  </tbody>\n",
       "</table>\n",
       "</div>"
      ],
      "text/plain": [
       "   product_id   product_category                    product_name  \\\n",
       "0  0690449022   men_jeans_ripped                    Skinny Jeans   \n",
       "1  1013317006  men_jeans_joggers  Hybrid Regular Tapered Joggers   \n",
       "2  0690449043   men_jeans_ripped                    Skinny Jeans   \n",
       "3  1013317002  men_jeans_joggers  Hybrid Regular Tapered Joggers   \n",
       "4  0979945001    men_jeans_loose                     Loose Jeans   \n",
       "\n",
       "  product_price      scrapy_datetime  \n",
       "0       $ 39.99  2022-07-25 19:53:45  \n",
       "1       $ 44.99  2022-07-25 19:53:45  \n",
       "2       $ 39.99  2022-07-25 19:53:45  \n",
       "3       $ 44.99  2022-07-25 19:53:45  \n",
       "4       $ 39.99  2022-07-25 19:53:45  "
      ]
     },
     "execution_count": 13,
     "metadata": {},
     "output_type": "execute_result"
    }
   ],
   "source": [
    "data.head()"
   ]
  },
  {
   "cell_type": "markdown",
   "id": "21630d58",
   "metadata": {},
   "source": [
    "# Request all products"
   ]
  },
  {
   "cell_type": "code",
   "execution_count": 14,
   "id": "9187d1dc",
   "metadata": {
    "ExecuteTime": {
     "end_time": "2022-07-25T22:53:45.985261Z",
     "start_time": "2022-07-25T22:53:45.956194Z"
    }
   },
   "outputs": [
    {
     "data": {
      "text/plain": [
       "'73'"
      ]
     },
     "execution_count": 14,
     "metadata": {},
     "output_type": "execute_result"
    }
   ],
   "source": [
    "# collect all pages from products\n",
    "\n",
    "total_item = soup.find_all('h2', class_='load-more-heading')[0].get('data-total')\n",
    "total_item"
   ]
  },
  {
   "cell_type": "code",
   "execution_count": 15,
   "id": "de47dc29",
   "metadata": {
    "ExecuteTime": {
     "end_time": "2022-07-25T22:53:46.420361Z",
     "start_time": "2022-07-25T22:53:45.987260Z"
    }
   },
   "outputs": [
    {
     "data": {
      "text/plain": [
       "3.0"
      ]
     },
     "execution_count": 15,
     "metadata": {},
     "output_type": "execute_result"
    }
   ],
   "source": [
    "page_number = np.ceil(int(total_item)/36)\n",
    "page_number"
   ]
  },
  {
   "cell_type": "code",
   "execution_count": 16,
   "id": "7a6b7cc4",
   "metadata": {
    "ExecuteTime": {
     "end_time": "2022-07-25T22:53:46.452333Z",
     "start_time": "2022-07-25T22:53:46.423349Z"
    }
   },
   "outputs": [
    {
     "data": {
      "text/plain": [
       "'https://www2.hm.com/en_us/men/products/jeans.html?page-size108'"
      ]
     },
     "execution_count": 16,
     "metadata": {},
     "output_type": "execute_result"
    }
   ],
   "source": [
    "url02 = url + '?page-size' + str(int(page_number*36))\n",
    "url02"
   ]
  },
  {
   "cell_type": "markdown",
   "id": "324dd2b3",
   "metadata": {},
   "source": [
    "# Collect product collor"
   ]
  },
  {
   "cell_type": "code",
   "execution_count": 17,
   "id": "6483d4cd",
   "metadata": {
    "ExecuteTime": {
     "end_time": "2022-07-25T22:53:46.781257Z",
     "start_time": "2022-07-25T22:53:46.455347Z"
    }
   },
   "outputs": [],
   "source": [
    "#Api Request\n",
    "url03 = 'https://www2.hm.com/en_us/productpage.0690449022.html'\n",
    "\n",
    "page03 = requests.get(url03, headers=headers)\n",
    "\n",
    "# Beautiful Soup\n",
    "soup03 = BeautifulSoup(page03.text, 'html.parser')"
   ]
  },
  {
   "cell_type": "code",
   "execution_count": 43,
   "id": "66e161c2",
   "metadata": {
    "ExecuteTime": {
     "end_time": "2022-07-25T23:49:16.370007Z",
     "start_time": "2022-07-25T23:49:16.347031Z"
    }
   },
   "outputs": [],
   "source": [
    "# color name\n",
    "product_list = soup03.find_all('a', {'class':['filter-option miniature', 'filter-option miniature active']} )\n",
    "color_name = [p.get('data-color') for p in product_list]\n",
    "\n",
    "# product id\n",
    "product_id = [p.get('data-articlecode') for p in product_list]\n",
    "\n",
    "df_color = pd.DataFrame( [product_id, color_name]).T\n",
    "df_color.columns = ['product_id', 'color_name']\n",
    "\n",
    "# generate style id + color id\n",
    "df_color['style_id'] = df_color['product_id'].apply(lambda x: x[:-3])\n",
    "df_color['color_id'] = df_color['product_id'].apply(lambda x: x[-3:])"
   ]
  },
  {
   "cell_type": "code",
   "execution_count": 44,
   "id": "f72a5b5a",
   "metadata": {
    "ExecuteTime": {
     "end_time": "2022-07-25T23:49:17.665319Z",
     "start_time": "2022-07-25T23:49:17.635074Z"
    }
   },
   "outputs": [],
   "source": [
    "# composition\n",
    "\n",
    "product_composition_list = soup03.find_all('div', class_='details-attributes-list-item')\n",
    "product_composition = [list(filter(None, p.get_text().split('\\n'))) for p in product_composition_list]\n",
    "\n",
    "# rename dataframe\n",
    "df_composition = pd.DataFrame(product_composition).T\n",
    "df_composition.columns = df_composition.iloc[0]\n",
    "\n",
    "# delete first row\n",
    "df_composition = df_composition.iloc[1:].fillna(method='ffill')\n",
    "\n",
    "# generate style id + color id\n",
    "df_composition['style_id'] = df_composition['Art. No.'].apply(lambda x: x[:-3])\n",
    "df_composition['color_id'] = df_composition['Art. No.'].apply(lambda x: x[-3:])\n",
    "\n",
    "# merge data color + decomposition\n",
    "data_sku = pd.merge(df_color, df_composition[['style_id', 'Fit', 'Composition']], how='left', on='style_id')"
   ]
  },
  {
   "cell_type": "code",
   "execution_count": 46,
   "id": "4a0f0272",
   "metadata": {
    "ExecuteTime": {
     "end_time": "2022-07-25T23:49:23.704507Z",
     "start_time": "2022-07-25T23:49:23.683978Z"
    }
   },
   "outputs": [
    {
     "data": {
      "text/html": [
       "<div>\n",
       "<style scoped>\n",
       "    .dataframe tbody tr th:only-of-type {\n",
       "        vertical-align: middle;\n",
       "    }\n",
       "\n",
       "    .dataframe tbody tr th {\n",
       "        vertical-align: top;\n",
       "    }\n",
       "\n",
       "    .dataframe thead th {\n",
       "        text-align: right;\n",
       "    }\n",
       "</style>\n",
       "<table border=\"1\" class=\"dataframe\">\n",
       "  <thead>\n",
       "    <tr style=\"text-align: right;\">\n",
       "      <th></th>\n",
       "      <th>product_id</th>\n",
       "      <th>color_name</th>\n",
       "      <th>style_id</th>\n",
       "      <th>color_id</th>\n",
       "      <th>Fit</th>\n",
       "      <th>Composition</th>\n",
       "    </tr>\n",
       "  </thead>\n",
       "  <tbody>\n",
       "    <tr>\n",
       "      <th>0</th>\n",
       "      <td>0690449001</td>\n",
       "      <td>Light denim blue/trashed</td>\n",
       "      <td>0690449</td>\n",
       "      <td>001</td>\n",
       "      <td>Skinny fit</td>\n",
       "      <td>Cotton 98%, Spandex 2%</td>\n",
       "    </tr>\n",
       "    <tr>\n",
       "      <th>1</th>\n",
       "      <td>0690449001</td>\n",
       "      <td>Light denim blue/trashed</td>\n",
       "      <td>0690449</td>\n",
       "      <td>001</td>\n",
       "      <td>Skinny fit</td>\n",
       "      <td>Lining: Polyester 100%</td>\n",
       "    </tr>\n",
       "    <tr>\n",
       "      <th>2</th>\n",
       "      <td>0690449001</td>\n",
       "      <td>Light denim blue/trashed</td>\n",
       "      <td>0690449</td>\n",
       "      <td>001</td>\n",
       "      <td>Skinny fit</td>\n",
       "      <td>Lining: Polyester 100%</td>\n",
       "    </tr>\n",
       "    <tr>\n",
       "      <th>3</th>\n",
       "      <td>0690449001</td>\n",
       "      <td>Light denim blue/trashed</td>\n",
       "      <td>0690449</td>\n",
       "      <td>001</td>\n",
       "      <td>Skinny fit</td>\n",
       "      <td>Lining: Polyester 100%</td>\n",
       "    </tr>\n",
       "    <tr>\n",
       "      <th>4</th>\n",
       "      <td>0690449001</td>\n",
       "      <td>Light denim blue/trashed</td>\n",
       "      <td>0690449</td>\n",
       "      <td>001</td>\n",
       "      <td>Skinny fit</td>\n",
       "      <td>Lining: Polyester 100%</td>\n",
       "    </tr>\n",
       "    <tr>\n",
       "      <th>...</th>\n",
       "      <td>...</td>\n",
       "      <td>...</td>\n",
       "      <td>...</td>\n",
       "      <td>...</td>\n",
       "      <td>...</td>\n",
       "      <td>...</td>\n",
       "    </tr>\n",
       "    <tr>\n",
       "      <th>109</th>\n",
       "      <td>0690449059</td>\n",
       "      <td>Denim blue</td>\n",
       "      <td>0690449</td>\n",
       "      <td>059</td>\n",
       "      <td>Skinny fit</td>\n",
       "      <td>Lining: Polyester 100%</td>\n",
       "    </tr>\n",
       "    <tr>\n",
       "      <th>110</th>\n",
       "      <td>0690449059</td>\n",
       "      <td>Denim blue</td>\n",
       "      <td>0690449</td>\n",
       "      <td>059</td>\n",
       "      <td>Skinny fit</td>\n",
       "      <td>Lining: Polyester 100%</td>\n",
       "    </tr>\n",
       "    <tr>\n",
       "      <th>111</th>\n",
       "      <td>0690449059</td>\n",
       "      <td>Denim blue</td>\n",
       "      <td>0690449</td>\n",
       "      <td>059</td>\n",
       "      <td>Skinny fit</td>\n",
       "      <td>Lining: Polyester 100%</td>\n",
       "    </tr>\n",
       "    <tr>\n",
       "      <th>112</th>\n",
       "      <td>0690449059</td>\n",
       "      <td>Denim blue</td>\n",
       "      <td>0690449</td>\n",
       "      <td>059</td>\n",
       "      <td>Skinny fit</td>\n",
       "      <td>Lining: Polyester 100%</td>\n",
       "    </tr>\n",
       "    <tr>\n",
       "      <th>113</th>\n",
       "      <td>0690449059</td>\n",
       "      <td>Denim blue</td>\n",
       "      <td>0690449</td>\n",
       "      <td>059</td>\n",
       "      <td>Skinny fit</td>\n",
       "      <td>Lining: Polyester 100%</td>\n",
       "    </tr>\n",
       "  </tbody>\n",
       "</table>\n",
       "<p>114 rows × 6 columns</p>\n",
       "</div>"
      ],
      "text/plain": [
       "     product_id                color_name style_id color_id         Fit  \\\n",
       "0    0690449001  Light denim blue/trashed  0690449      001  Skinny fit   \n",
       "1    0690449001  Light denim blue/trashed  0690449      001  Skinny fit   \n",
       "2    0690449001  Light denim blue/trashed  0690449      001  Skinny fit   \n",
       "3    0690449001  Light denim blue/trashed  0690449      001  Skinny fit   \n",
       "4    0690449001  Light denim blue/trashed  0690449      001  Skinny fit   \n",
       "..          ...                       ...      ...      ...         ...   \n",
       "109  0690449059                Denim blue  0690449      059  Skinny fit   \n",
       "110  0690449059                Denim blue  0690449      059  Skinny fit   \n",
       "111  0690449059                Denim blue  0690449      059  Skinny fit   \n",
       "112  0690449059                Denim blue  0690449      059  Skinny fit   \n",
       "113  0690449059                Denim blue  0690449      059  Skinny fit   \n",
       "\n",
       "                Composition  \n",
       "0    Cotton 98%, Spandex 2%  \n",
       "1    Lining: Polyester 100%  \n",
       "2    Lining: Polyester 100%  \n",
       "3    Lining: Polyester 100%  \n",
       "4    Lining: Polyester 100%  \n",
       "..                      ...  \n",
       "109  Lining: Polyester 100%  \n",
       "110  Lining: Polyester 100%  \n",
       "111  Lining: Polyester 100%  \n",
       "112  Lining: Polyester 100%  \n",
       "113  Lining: Polyester 100%  \n",
       "\n",
       "[114 rows x 6 columns]"
      ]
     },
     "execution_count": 46,
     "metadata": {},
     "output_type": "execute_result"
    }
   ],
   "source": [
    "data_sku"
   ]
  },
  {
   "cell_type": "code",
   "execution_count": null,
   "id": "0155b46f",
   "metadata": {},
   "outputs": [],
   "source": []
  },
  {
   "cell_type": "code",
   "execution_count": null,
   "id": "a15c5125",
   "metadata": {},
   "outputs": [],
   "source": []
  },
  {
   "cell_type": "code",
   "execution_count": null,
   "id": "015a3637",
   "metadata": {},
   "outputs": [],
   "source": []
  }
 ],
 "metadata": {
  "kernelspec": {
   "display_name": "Python 3 (ipykernel)",
   "language": "python",
   "name": "python3"
  },
  "language_info": {
   "codemirror_mode": {
    "name": "ipython",
    "version": 3
   },
   "file_extension": ".py",
   "mimetype": "text/x-python",
   "name": "python",
   "nbconvert_exporter": "python",
   "pygments_lexer": "ipython3",
   "version": "3.9.12"
  }
 },
 "nbformat": 4,
 "nbformat_minor": 5
}
