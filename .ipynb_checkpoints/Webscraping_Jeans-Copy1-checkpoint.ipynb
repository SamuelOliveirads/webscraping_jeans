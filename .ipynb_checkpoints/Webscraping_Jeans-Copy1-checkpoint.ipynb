{
 "cells": [
  {
   "cell_type": "markdown",
   "id": "5eaa1ac2",
   "metadata": {
    "heading_collapsed": true
   },
   "source": [
    "# Questão de Negócio"
   ]
  },
  {
   "cell_type": "markdown",
   "id": "2fbd05c7",
   "metadata": {
    "hidden": true
   },
   "source": [
    "A empresa Star Jeans! Eduardo e Marcelo são dois brasileiros, amigos e sócios de empreendimento. \n",
    "\n",
    "Depois de vários negócio bem sucedidos, eles estão planejando entrar no mercado de moda\n",
    "dos USA como um modelo de negócio do tipo E-commerce.\n",
    "\n",
    "A idéia inicial é entrar no mercado com apenas um produto e para um público específico, no caso\n",
    "o produto seria calças Jenas para o público masculino. O objetivo é manter o custo de operação\n",
    "baixo e escalar a medida que forem conseguindo clientes.\n",
    "\n",
    "Porém, mesmo com o produto de entrada e a audiência definidos, os dois sócios não tem experiência\n",
    "nesse mercado de moda e portanto não sabem definir coisas básicas como preço, o tipo de calça e\n",
    "o material para a fabricação de cada peça.\n",
    "\n",
    "Assim, os dois sócios contrataram uma consultoria de Ciência de Dados para responder as seguintes\n",
    "perguntas: \n",
    "1. Qual o melhor preço de venda para as calças? \n",
    "2. Quantos tipos de calças e suas cores para o produto inicial? \n",
    "3. Quais as matérias-prima necessárias para confeccionar as calças?\n",
    "\n",
    "As principais concorrentes da empresa Start Jeans são as americadas H&M e Macys."
   ]
  },
  {
   "cell_type": "markdown",
   "id": "36a60f16",
   "metadata": {
    "heading_collapsed": true
   },
   "source": [
    "# 0.0 Imports\n"
   ]
  },
  {
   "cell_type": "code",
   "execution_count": 1,
   "id": "0774dc6a",
   "metadata": {
    "ExecuteTime": {
     "end_time": "2022-07-28T17:29:10.074521Z",
     "start_time": "2022-07-28T17:29:05.044844Z"
    },
    "hidden": true
   },
   "outputs": [],
   "source": [
    "import requests\n",
    "import numpy as np\n",
    "import pandas as pd\n",
    "import seaborn as sns\n",
    "\n",
    "from datetime import datetime\n",
    "from bs4 import BeautifulSoup\n",
    "from matplotlib import pyplot as plt\n",
    "from IPython.core.display import HTML"
   ]
  },
  {
   "cell_type": "markdown",
   "id": "3b7ac345",
   "metadata": {
    "hidden": true
   },
   "source": [
    "## 0.1 Helper Functions "
   ]
  },
  {
   "cell_type": "code",
   "execution_count": 2,
   "id": "89b2bba1",
   "metadata": {
    "ExecuteTime": {
     "end_time": "2022-07-28T17:29:10.090497Z",
     "start_time": "2022-07-28T17:29:10.077505Z"
    },
    "hidden": true
   },
   "outputs": [],
   "source": [
    "def jupyter_settings():\n",
    "    %matplotlib inline\n",
    "    plt.style.use('bmh')\n",
    "    plt.rcParams['figure.figsize'] = [25,12]\n",
    "    plt.rcParams['font.size'] = 24\n",
    "    plt.rcParams['figure.dpi'] = 100\n",
    "    \n",
    "    display( HTML( '<style>.container{width:100% !important; }</style>'))\n",
    "    pd.set_option('display.float_format', lambda x: '%.2f' % x)\n",
    "    \n",
    "    # ignora future warnings\n",
    "    #warnings.filterwarnings('ignore')\n",
    "    \n",
    "    sns.set()"
   ]
  },
  {
   "cell_type": "code",
   "execution_count": 3,
   "id": "479a6ce8",
   "metadata": {
    "ExecuteTime": {
     "end_time": "2022-07-28T17:29:10.121507Z",
     "start_time": "2022-07-28T17:29:10.096495Z"
    },
    "hidden": true
   },
   "outputs": [
    {
     "data": {
      "text/html": [
       "<style>.container{width:100% !important; }</style>"
      ],
      "text/plain": [
       "<IPython.core.display.HTML object>"
      ]
     },
     "metadata": {},
     "output_type": "display_data"
    }
   ],
   "source": [
    "jupyter_settings()"
   ]
  },
  {
   "cell_type": "markdown",
   "id": "8614dd80",
   "metadata": {},
   "source": [
    "# 1.0 Extração de dados em HTML"
   ]
  },
  {
   "cell_type": "code",
   "execution_count": 4,
   "id": "5a32d5a6",
   "metadata": {
    "ExecuteTime": {
     "end_time": "2022-07-28T17:29:11.453973Z",
     "start_time": "2022-07-28T17:29:10.124478Z"
    }
   },
   "outputs": [],
   "source": [
    "# make request\n",
    "url = 'https://www2.hm.com/en_us/men/products/jeans.html'\n",
    "\n",
    "headers = {'User-Agent': 'Mozilla/5.0 {Macintosh; Intel Mac Os X 10_11_5) AppleWebKit/537.36 (KHTML, like Gecko) Chrome/50.0.2661.102 Safari/537.36}'}\n",
    "page = requests.get(url, headers=headers)"
   ]
  },
  {
   "cell_type": "code",
   "execution_count": 5,
   "id": "85628da2",
   "metadata": {
    "ExecuteTime": {
     "end_time": "2022-07-28T17:29:11.641897Z",
     "start_time": "2022-07-28T17:29:11.455972Z"
    }
   },
   "outputs": [],
   "source": [
    "# Instance Beautiful Soup\n",
    "soup = BeautifulSoup(page.text, \"html.parser\")"
   ]
  },
  {
   "cell_type": "code",
   "execution_count": 6,
   "id": "6e7f6ac9",
   "metadata": {
    "ExecuteTime": {
     "end_time": "2022-07-28T17:29:11.657888Z",
     "start_time": "2022-07-28T17:29:11.643896Z"
    }
   },
   "outputs": [],
   "source": [
    "# extract all products\n",
    "products = soup.find('ul', class_='products-listing small')"
   ]
  },
  {
   "cell_type": "code",
   "execution_count": 7,
   "id": "6a6f3d2c",
   "metadata": {
    "ExecuteTime": {
     "end_time": "2022-07-28T17:29:11.687878Z",
     "start_time": "2022-07-28T17:29:11.659888Z"
    }
   },
   "outputs": [],
   "source": [
    "product_list = products.find_all('article', class_='hm-product-item')\n",
    "\n",
    "# product id\n",
    "product_id = [p.get('data-articlecode') for p in product_list]\n",
    "\n",
    "# product_category\n",
    "product_category = [p.get('data-category') for p in product_list]"
   ]
  },
  {
   "cell_type": "code",
   "execution_count": 8,
   "id": "3f44276f",
   "metadata": {
    "ExecuteTime": {
     "end_time": "2022-07-28T17:29:11.703869Z",
     "start_time": "2022-07-28T17:29:11.689877Z"
    }
   },
   "outputs": [],
   "source": [
    "# product name\n",
    "product_list = products.find_all('a', class_='link')\n",
    "product_name = [p.get_text() for p in product_list]"
   ]
  },
  {
   "cell_type": "code",
   "execution_count": 9,
   "id": "5637004c",
   "metadata": {
    "ExecuteTime": {
     "end_time": "2022-07-28T17:29:11.719860Z",
     "start_time": "2022-07-28T17:29:11.705868Z"
    }
   },
   "outputs": [],
   "source": [
    "# price\n",
    "product_list = products.find_all('span', class_='price regular')\n",
    "product_price = [p.get_text() for p in product_list]"
   ]
  },
  {
   "cell_type": "code",
   "execution_count": 10,
   "id": "f82fce4b",
   "metadata": {
    "ExecuteTime": {
     "end_time": "2022-07-28T17:29:11.735854Z",
     "start_time": "2022-07-28T17:29:11.721858Z"
    }
   },
   "outputs": [],
   "source": [
    "# product color"
   ]
  },
  {
   "cell_type": "code",
   "execution_count": 11,
   "id": "384d61a4",
   "metadata": {
    "ExecuteTime": {
     "end_time": "2022-07-28T17:29:11.751709Z",
     "start_time": "2022-07-28T17:29:11.737850Z"
    }
   },
   "outputs": [],
   "source": [
    "# product composition"
   ]
  },
  {
   "cell_type": "code",
   "execution_count": 12,
   "id": "4bbf9d66",
   "metadata": {
    "ExecuteTime": {
     "end_time": "2022-07-28T17:29:11.767699Z",
     "start_time": "2022-07-28T17:29:11.753708Z"
    }
   },
   "outputs": [],
   "source": [
    "# merge scrapy into data frame\n",
    "data = pd.DataFrame([product_id, product_category, product_name, product_price]).T\n",
    "data.columns = ['product_id', 'product_category', 'product_name', 'product_price']\n",
    "\n",
    "# scrapy datetime\n",
    "data['scrapy_datetime'] = datetime.now().strftime('%Y-%m-%d %H:%M:%S')"
   ]
  },
  {
   "cell_type": "code",
   "execution_count": 13,
   "id": "cd39e59c",
   "metadata": {
    "ExecuteTime": {
     "end_time": "2022-07-28T17:29:11.799226Z",
     "start_time": "2022-07-28T17:29:11.772698Z"
    }
   },
   "outputs": [
    {
     "data": {
      "text/html": [
       "<div>\n",
       "<style scoped>\n",
       "    .dataframe tbody tr th:only-of-type {\n",
       "        vertical-align: middle;\n",
       "    }\n",
       "\n",
       "    .dataframe tbody tr th {\n",
       "        vertical-align: top;\n",
       "    }\n",
       "\n",
       "    .dataframe thead th {\n",
       "        text-align: right;\n",
       "    }\n",
       "</style>\n",
       "<table border=\"1\" class=\"dataframe\">\n",
       "  <thead>\n",
       "    <tr style=\"text-align: right;\">\n",
       "      <th></th>\n",
       "      <th>product_id</th>\n",
       "      <th>product_category</th>\n",
       "      <th>product_name</th>\n",
       "      <th>product_price</th>\n",
       "      <th>scrapy_datetime</th>\n",
       "    </tr>\n",
       "  </thead>\n",
       "  <tbody>\n",
       "    <tr>\n",
       "      <th>0</th>\n",
       "      <td>0690449043</td>\n",
       "      <td>men_jeans_ripped</td>\n",
       "      <td>Skinny Jeans</td>\n",
       "      <td>$ 39.99</td>\n",
       "      <td>2022-07-28 14:29:11</td>\n",
       "    </tr>\n",
       "    <tr>\n",
       "      <th>1</th>\n",
       "      <td>1013317006</td>\n",
       "      <td>men_jeans_joggers</td>\n",
       "      <td>Hybrid Regular Tapered Joggers</td>\n",
       "      <td>$ 44.99</td>\n",
       "      <td>2022-07-28 14:29:11</td>\n",
       "    </tr>\n",
       "    <tr>\n",
       "      <th>2</th>\n",
       "      <td>1013317002</td>\n",
       "      <td>men_jeans_joggers</td>\n",
       "      <td>Hybrid Regular Tapered Joggers</td>\n",
       "      <td>$ 44.99</td>\n",
       "      <td>2022-07-28 14:29:11</td>\n",
       "    </tr>\n",
       "    <tr>\n",
       "      <th>3</th>\n",
       "      <td>0690449022</td>\n",
       "      <td>men_jeans_ripped</td>\n",
       "      <td>Skinny Jeans</td>\n",
       "      <td>$ 39.99</td>\n",
       "      <td>2022-07-28 14:29:11</td>\n",
       "    </tr>\n",
       "    <tr>\n",
       "      <th>4</th>\n",
       "      <td>0875105023</td>\n",
       "      <td>men_jeans_relaxed</td>\n",
       "      <td>Relaxed Jeans</td>\n",
       "      <td>$ 29.99</td>\n",
       "      <td>2022-07-28 14:29:11</td>\n",
       "    </tr>\n",
       "  </tbody>\n",
       "</table>\n",
       "</div>"
      ],
      "text/plain": [
       "   product_id   product_category                    product_name  \\\n",
       "0  0690449043   men_jeans_ripped                    Skinny Jeans   \n",
       "1  1013317006  men_jeans_joggers  Hybrid Regular Tapered Joggers   \n",
       "2  1013317002  men_jeans_joggers  Hybrid Regular Tapered Joggers   \n",
       "3  0690449022   men_jeans_ripped                    Skinny Jeans   \n",
       "4  0875105023  men_jeans_relaxed                   Relaxed Jeans   \n",
       "\n",
       "  product_price      scrapy_datetime  \n",
       "0       $ 39.99  2022-07-28 14:29:11  \n",
       "1       $ 44.99  2022-07-28 14:29:11  \n",
       "2       $ 44.99  2022-07-28 14:29:11  \n",
       "3       $ 39.99  2022-07-28 14:29:11  \n",
       "4       $ 29.99  2022-07-28 14:29:11  "
      ]
     },
     "execution_count": 13,
     "metadata": {},
     "output_type": "execute_result"
    }
   ],
   "source": [
    "data.head()"
   ]
  },
  {
   "cell_type": "markdown",
   "id": "21630d58",
   "metadata": {},
   "source": [
    "# Request all products"
   ]
  },
  {
   "cell_type": "code",
   "execution_count": 14,
   "id": "9187d1dc",
   "metadata": {
    "ExecuteTime": {
     "end_time": "2022-07-28T17:29:11.831207Z",
     "start_time": "2022-07-28T17:29:11.801224Z"
    }
   },
   "outputs": [
    {
     "data": {
      "text/plain": [
       "'72'"
      ]
     },
     "execution_count": 14,
     "metadata": {},
     "output_type": "execute_result"
    }
   ],
   "source": [
    "# collect all products available\n",
    "\n",
    "total_item = soup.find_all('h2', class_='load-more-heading')[0].get('data-total')\n",
    "total_item"
   ]
  },
  {
   "cell_type": "code",
   "execution_count": 15,
   "id": "de47dc29",
   "metadata": {
    "ExecuteTime": {
     "end_time": "2022-07-28T17:29:11.847197Z",
     "start_time": "2022-07-28T17:29:11.838204Z"
    }
   },
   "outputs": [
    {
     "data": {
      "text/plain": [
       "2.0"
      ]
     },
     "execution_count": 15,
     "metadata": {},
     "output_type": "execute_result"
    }
   ],
   "source": [
    "# detect total page numbers\n",
    "page_number = np.ceil(int(total_item)/36)\n",
    "page_number"
   ]
  },
  {
   "cell_type": "code",
   "execution_count": 16,
   "id": "7a6b7cc4",
   "metadata": {
    "ExecuteTime": {
     "end_time": "2022-07-28T17:29:11.863188Z",
     "start_time": "2022-07-28T17:29:11.850196Z"
    }
   },
   "outputs": [
    {
     "data": {
      "text/plain": [
       "'https://www2.hm.com/en_us/men/products/jeans.html?page-size72'"
      ]
     },
     "execution_count": 16,
     "metadata": {},
     "output_type": "execute_result"
    }
   ],
   "source": [
    "# create link from total of page numbers\n",
    "url02 = url + '?page-size' + str(int(page_number*36))\n",
    "url02"
   ]
  },
  {
   "cell_type": "markdown",
   "id": "324dd2b3",
   "metadata": {},
   "source": [
    "# Collect product collor"
   ]
  },
  {
   "cell_type": "markdown",
   "id": "245c00dc",
   "metadata": {},
   "source": [
    "## One Product\n"
   ]
  },
  {
   "cell_type": "code",
   "execution_count": 17,
   "id": "6483d4cd",
   "metadata": {
    "ExecuteTime": {
     "end_time": "2022-07-28T17:29:12.712396Z",
     "start_time": "2022-07-28T17:29:11.866187Z"
    }
   },
   "outputs": [],
   "source": [
    "#Api Request\n",
    "url03 = 'https://www2.hm.com/en_us/productpage.0690449022.html'\n",
    "\n",
    "page03 = requests.get(url03, headers=headers)\n",
    "\n",
    "# Beautiful Soup\n",
    "soup03 = BeautifulSoup(page03.text, 'html.parser')"
   ]
  },
  {
   "cell_type": "code",
   "execution_count": 18,
   "id": "66e161c2",
   "metadata": {
    "ExecuteTime": {
     "end_time": "2022-07-28T17:29:12.743890Z",
     "start_time": "2022-07-28T17:29:12.715382Z"
    }
   },
   "outputs": [],
   "source": [
    "# color name\n",
    "product_list = soup03.find_all('a', {'class':['filter-option miniature', 'filter-option miniature active']} )\n",
    "color_name = [p.get('data-color') for p in product_list]\n",
    "\n",
    "# product id\n",
    "product_id = [p.get('data-articlecode') for p in product_list]\n",
    "\n",
    "df_color = pd.DataFrame( [product_id, color_name]).T\n",
    "df_color.columns = ['product_id', 'color_name']\n",
    "\n",
    "# generate style id + color id\n",
    "df_color['style_id'] = df_color['product_id'].apply(lambda x: x[:-3])\n",
    "df_color['color_id'] = df_color['product_id'].apply(lambda x: x[-3:])"
   ]
  },
  {
   "cell_type": "code",
   "execution_count": 19,
   "id": "f72a5b5a",
   "metadata": {
    "ExecuteTime": {
     "end_time": "2022-07-28T17:29:12.790902Z",
     "start_time": "2022-07-28T17:29:12.747889Z"
    }
   },
   "outputs": [],
   "source": [
    "# composition\n",
    "\n",
    "product_composition_list = soup03.find_all('div', class_='details-attributes-list-item')\n",
    "product_composition = [list(filter(None, p.get_text().split('\\n'))) for p in product_composition_list]\n",
    "\n",
    "# rename dataframe\n",
    "df_composition = pd.DataFrame(product_composition).T\n",
    "df_composition.columns = df_composition.iloc[0]\n",
    "\n",
    "# delete first row\n",
    "df_composition = df_composition.iloc[1:].fillna(method='ffill')\n",
    "\n",
    "# generate style id + color id\n",
    "df_composition['style_id'] = df_composition['Art. No.'].apply(lambda x: x[:-3])\n",
    "df_composition['color_id'] = df_composition['Art. No.'].apply(lambda x: x[-3:])\n",
    "\n",
    "# merge data color + decomposition\n",
    "data_sku = pd.merge(df_color, df_composition[['style_id', 'Fit', 'Composition']], how='left', on='style_id')"
   ]
  },
  {
   "cell_type": "code",
   "execution_count": 20,
   "id": "4a0f0272",
   "metadata": {
    "ExecuteTime": {
     "end_time": "2022-07-28T17:29:12.821905Z",
     "start_time": "2022-07-28T17:29:12.792921Z"
    }
   },
   "outputs": [
    {
     "data": {
      "text/html": [
       "<div>\n",
       "<style scoped>\n",
       "    .dataframe tbody tr th:only-of-type {\n",
       "        vertical-align: middle;\n",
       "    }\n",
       "\n",
       "    .dataframe tbody tr th {\n",
       "        vertical-align: top;\n",
       "    }\n",
       "\n",
       "    .dataframe thead th {\n",
       "        text-align: right;\n",
       "    }\n",
       "</style>\n",
       "<table border=\"1\" class=\"dataframe\">\n",
       "  <thead>\n",
       "    <tr style=\"text-align: right;\">\n",
       "      <th></th>\n",
       "      <th>product_id</th>\n",
       "      <th>color_name</th>\n",
       "      <th>style_id</th>\n",
       "      <th>color_id</th>\n",
       "      <th>Fit</th>\n",
       "      <th>Composition</th>\n",
       "    </tr>\n",
       "  </thead>\n",
       "  <tbody>\n",
       "    <tr>\n",
       "      <th>0</th>\n",
       "      <td>0690449001</td>\n",
       "      <td>Light denim blue/trashed</td>\n",
       "      <td>0690449</td>\n",
       "      <td>001</td>\n",
       "      <td>Skinny fit</td>\n",
       "      <td>Cotton 98%, Spandex 2%</td>\n",
       "    </tr>\n",
       "    <tr>\n",
       "      <th>1</th>\n",
       "      <td>0690449001</td>\n",
       "      <td>Light denim blue/trashed</td>\n",
       "      <td>0690449</td>\n",
       "      <td>001</td>\n",
       "      <td>Skinny fit</td>\n",
       "      <td>Lining: Polyester 100%</td>\n",
       "    </tr>\n",
       "    <tr>\n",
       "      <th>2</th>\n",
       "      <td>0690449001</td>\n",
       "      <td>Light denim blue/trashed</td>\n",
       "      <td>0690449</td>\n",
       "      <td>001</td>\n",
       "      <td>Skinny fit</td>\n",
       "      <td>Lining: Polyester 100%</td>\n",
       "    </tr>\n",
       "    <tr>\n",
       "      <th>3</th>\n",
       "      <td>0690449001</td>\n",
       "      <td>Light denim blue/trashed</td>\n",
       "      <td>0690449</td>\n",
       "      <td>001</td>\n",
       "      <td>Skinny fit</td>\n",
       "      <td>Lining: Polyester 100%</td>\n",
       "    </tr>\n",
       "    <tr>\n",
       "      <th>4</th>\n",
       "      <td>0690449001</td>\n",
       "      <td>Light denim blue/trashed</td>\n",
       "      <td>0690449</td>\n",
       "      <td>001</td>\n",
       "      <td>Skinny fit</td>\n",
       "      <td>Lining: Polyester 100%</td>\n",
       "    </tr>\n",
       "    <tr>\n",
       "      <th>...</th>\n",
       "      <td>...</td>\n",
       "      <td>...</td>\n",
       "      <td>...</td>\n",
       "      <td>...</td>\n",
       "      <td>...</td>\n",
       "      <td>...</td>\n",
       "    </tr>\n",
       "    <tr>\n",
       "      <th>109</th>\n",
       "      <td>0690449059</td>\n",
       "      <td>Denim blue</td>\n",
       "      <td>0690449</td>\n",
       "      <td>059</td>\n",
       "      <td>Skinny fit</td>\n",
       "      <td>Lining: Polyester 100%</td>\n",
       "    </tr>\n",
       "    <tr>\n",
       "      <th>110</th>\n",
       "      <td>0690449059</td>\n",
       "      <td>Denim blue</td>\n",
       "      <td>0690449</td>\n",
       "      <td>059</td>\n",
       "      <td>Skinny fit</td>\n",
       "      <td>Lining: Polyester 100%</td>\n",
       "    </tr>\n",
       "    <tr>\n",
       "      <th>111</th>\n",
       "      <td>0690449059</td>\n",
       "      <td>Denim blue</td>\n",
       "      <td>0690449</td>\n",
       "      <td>059</td>\n",
       "      <td>Skinny fit</td>\n",
       "      <td>Lining: Polyester 100%</td>\n",
       "    </tr>\n",
       "    <tr>\n",
       "      <th>112</th>\n",
       "      <td>0690449059</td>\n",
       "      <td>Denim blue</td>\n",
       "      <td>0690449</td>\n",
       "      <td>059</td>\n",
       "      <td>Skinny fit</td>\n",
       "      <td>Lining: Polyester 100%</td>\n",
       "    </tr>\n",
       "    <tr>\n",
       "      <th>113</th>\n",
       "      <td>0690449059</td>\n",
       "      <td>Denim blue</td>\n",
       "      <td>0690449</td>\n",
       "      <td>059</td>\n",
       "      <td>Skinny fit</td>\n",
       "      <td>Lining: Polyester 100%</td>\n",
       "    </tr>\n",
       "  </tbody>\n",
       "</table>\n",
       "<p>114 rows × 6 columns</p>\n",
       "</div>"
      ],
      "text/plain": [
       "     product_id                color_name style_id color_id         Fit  \\\n",
       "0    0690449001  Light denim blue/trashed  0690449      001  Skinny fit   \n",
       "1    0690449001  Light denim blue/trashed  0690449      001  Skinny fit   \n",
       "2    0690449001  Light denim blue/trashed  0690449      001  Skinny fit   \n",
       "3    0690449001  Light denim blue/trashed  0690449      001  Skinny fit   \n",
       "4    0690449001  Light denim blue/trashed  0690449      001  Skinny fit   \n",
       "..          ...                       ...      ...      ...         ...   \n",
       "109  0690449059                Denim blue  0690449      059  Skinny fit   \n",
       "110  0690449059                Denim blue  0690449      059  Skinny fit   \n",
       "111  0690449059                Denim blue  0690449      059  Skinny fit   \n",
       "112  0690449059                Denim blue  0690449      059  Skinny fit   \n",
       "113  0690449059                Denim blue  0690449      059  Skinny fit   \n",
       "\n",
       "                Composition  \n",
       "0    Cotton 98%, Spandex 2%  \n",
       "1    Lining: Polyester 100%  \n",
       "2    Lining: Polyester 100%  \n",
       "3    Lining: Polyester 100%  \n",
       "4    Lining: Polyester 100%  \n",
       "..                      ...  \n",
       "109  Lining: Polyester 100%  \n",
       "110  Lining: Polyester 100%  \n",
       "111  Lining: Polyester 100%  \n",
       "112  Lining: Polyester 100%  \n",
       "113  Lining: Polyester 100%  \n",
       "\n",
       "[114 rows x 6 columns]"
      ]
     },
     "execution_count": 20,
     "metadata": {},
     "output_type": "execute_result"
    }
   ],
   "source": [
    "data_sku"
   ]
  },
  {
   "cell_type": "markdown",
   "id": "bf583be3",
   "metadata": {},
   "source": [
    "## All Product\n"
   ]
  },
  {
   "cell_type": "code",
   "execution_count": 30,
   "id": "a15c5125",
   "metadata": {
    "ExecuteTime": {
     "end_time": "2022-07-28T18:39:44.775973Z",
     "start_time": "2022-07-28T18:39:27.850509Z"
    }
   },
   "outputs": [],
   "source": [
    "# Empty dataframe\n",
    "df_details = pd.DataFrame()\n",
    "\n",
    "# unique columns for all products\n",
    "aux = []\n",
    "\n",
    "cols = {'Art. No.', 'Care instructions', 'Composition', 'Concept', 'Description', 'Fit', 'Imported',\n",
    " 'Material', 'More sustainable materials', 'Nice to know', 'Size', 'color_id', \n",
    " 'messages.clothingStyle', 'messages.garmentLength', 'messages.waistRise', 'style_id'}\n",
    "df_pattern = pd.DataFrame(columns=cols)\n",
    "\n",
    "for i in range(len(data)):\n",
    "    #Api Request\n",
    "    url03 = 'https://www2.hm.com/en_us/productpage.' + data.loc[i, 'product_id'] + '.html'\n",
    "\n",
    "    page03 = requests.get(url03, headers=headers)\n",
    "\n",
    "    # Beautiful Soup\n",
    "    soup03 = BeautifulSoup(page03.text, 'html.parser')\n",
    "\n",
    "    # color name\n",
    "    product_list = soup03.find_all('a', {'class':['filter-option miniature', 'filter-option miniature active']} )\n",
    "    color_name = [p.get('data-color') for p in product_list]\n",
    "\n",
    "    # product id\n",
    "    product_id = [p.get('data-articlecode') for p in product_list]\n",
    "\n",
    "    df_color = pd.DataFrame( [product_id, color_name]).T\n",
    "    df_color.columns = ['product_id', 'color_name']\n",
    "\n",
    "    # generate style id + color id\n",
    "    df_color['style_id'] = df_color['product_id'].apply(lambda x: x[:-3])\n",
    "    df_color['color_id'] = df_color['product_id'].apply(lambda x: x[-3:])\n",
    "\n",
    "    # composition\n",
    "\n",
    "    product_composition_list = soup03.find_all('div', class_='details-attributes-list-item')\n",
    "    product_composition = [list(filter(None, p.get_text().split('\\n'))) for p in product_composition_list]\n",
    "\n",
    "    # rename dataframe\n",
    "    df_composition = pd.DataFrame(product_composition).T\n",
    "    df_composition.columns = df_composition.iloc[0]\n",
    "\n",
    "    # delete first row\n",
    "    df_composition = df_composition.iloc[1:].fillna(method='ffill')\n",
    "    \n",
    "    # garantee the same number of columns\n",
    "    df_composition = pd.concat([df_pattern, df_composition], axis=0)\n",
    "    \n",
    "    # generate style id + color id\n",
    "    df_composition['style_id'] = df_composition['Art. No.'].apply(lambda x: x[:-3])\n",
    "    df_composition['color_id'] = df_composition['Art. No.'].apply(lambda x: x[-3:])\n",
    "\n",
    "    aux = aux + df_composition.columns.tolist()\n",
    "    \n",
    "    # merge data color + decomposition\n",
    "    data_sku = pd.merge(df_color, df_composition[['style_id', 'Fit', 'Composition', 'Size', 'Description'\n",
    "                                                 , 'Material']], how='left', on='style_id')\n",
    "    \n",
    "    # all details products\n",
    "    df_details = pd.concat([df_details, data_sku], axis=0)\n",
    "\n",
    "# Join showroom data + details\n",
    "data['style_id'] = data['product_id'].apply(lambda x: x[:-3])\n",
    "data['color_id'] = data['product_id'].apply(lambda x: x[-3:])\n",
    "\n",
    "data_raw = pd.merge(data, df_details[['style_id', 'Fit', 'Composition', 'Size', 'Description',\n",
    "                                    'Material']],how='left', on='style_id')"
   ]
  },
  {
   "cell_type": "code",
   "execution_count": 31,
   "id": "61b7de74",
   "metadata": {
    "ExecuteTime": {
     "end_time": "2022-07-28T18:39:44.807954Z",
     "start_time": "2022-07-28T18:39:44.777972Z"
    }
   },
   "outputs": [
    {
     "data": {
      "text/html": [
       "<div>\n",
       "<style scoped>\n",
       "    .dataframe tbody tr th:only-of-type {\n",
       "        vertical-align: middle;\n",
       "    }\n",
       "\n",
       "    .dataframe tbody tr th {\n",
       "        vertical-align: top;\n",
       "    }\n",
       "\n",
       "    .dataframe thead th {\n",
       "        text-align: right;\n",
       "    }\n",
       "</style>\n",
       "<table border=\"1\" class=\"dataframe\">\n",
       "  <thead>\n",
       "    <tr style=\"text-align: right;\">\n",
       "      <th></th>\n",
       "      <th>product_id</th>\n",
       "      <th>product_category</th>\n",
       "      <th>product_name</th>\n",
       "      <th>product_price</th>\n",
       "      <th>scrapy_datetime</th>\n",
       "      <th>style_id</th>\n",
       "      <th>color_id</th>\n",
       "      <th>Fit</th>\n",
       "      <th>Composition</th>\n",
       "      <th>Size</th>\n",
       "      <th>Description</th>\n",
       "      <th>Material</th>\n",
       "    </tr>\n",
       "  </thead>\n",
       "  <tbody>\n",
       "    <tr>\n",
       "      <th>0</th>\n",
       "      <td>0690449043</td>\n",
       "      <td>men_jeans_ripped</td>\n",
       "      <td>Skinny Jeans</td>\n",
       "      <td>$ 39.99</td>\n",
       "      <td>2022-07-28 14:29:11</td>\n",
       "      <td>0690449</td>\n",
       "      <td>043</td>\n",
       "      <td>Skinny fit</td>\n",
       "      <td>Cotton 98%, Spandex 2%</td>\n",
       "      <td>NaN</td>\n",
       "      <td>Light denim blue</td>\n",
       "      <td>keyFibreType</td>\n",
       "    </tr>\n",
       "    <tr>\n",
       "      <th>1</th>\n",
       "      <td>0690449043</td>\n",
       "      <td>men_jeans_ripped</td>\n",
       "      <td>Skinny Jeans</td>\n",
       "      <td>$ 39.99</td>\n",
       "      <td>2022-07-28 14:29:11</td>\n",
       "      <td>0690449</td>\n",
       "      <td>043</td>\n",
       "      <td>Skinny fit</td>\n",
       "      <td>Pocket lining: Polyester 65%, Cotton 35%</td>\n",
       "      <td>NaN</td>\n",
       "      <td>Light denim blue</td>\n",
       "      <td>Denim</td>\n",
       "    </tr>\n",
       "    <tr>\n",
       "      <th>2</th>\n",
       "      <td>0690449043</td>\n",
       "      <td>men_jeans_ripped</td>\n",
       "      <td>Skinny Jeans</td>\n",
       "      <td>$ 39.99</td>\n",
       "      <td>2022-07-28 14:29:11</td>\n",
       "      <td>0690449</td>\n",
       "      <td>043</td>\n",
       "      <td>Skinny fit</td>\n",
       "      <td>Pocket lining: Polyester 65%, Cotton 35%</td>\n",
       "      <td>NaN</td>\n",
       "      <td>Light denim blue</td>\n",
       "      <td>Denim</td>\n",
       "    </tr>\n",
       "    <tr>\n",
       "      <th>3</th>\n",
       "      <td>0690449043</td>\n",
       "      <td>men_jeans_ripped</td>\n",
       "      <td>Skinny Jeans</td>\n",
       "      <td>$ 39.99</td>\n",
       "      <td>2022-07-28 14:29:11</td>\n",
       "      <td>0690449</td>\n",
       "      <td>043</td>\n",
       "      <td>Skinny fit</td>\n",
       "      <td>Pocket lining: Polyester 65%, Cotton 35%</td>\n",
       "      <td>NaN</td>\n",
       "      <td>Light denim blue</td>\n",
       "      <td>Denim</td>\n",
       "    </tr>\n",
       "    <tr>\n",
       "      <th>4</th>\n",
       "      <td>0690449043</td>\n",
       "      <td>men_jeans_ripped</td>\n",
       "      <td>Skinny Jeans</td>\n",
       "      <td>$ 39.99</td>\n",
       "      <td>2022-07-28 14:29:11</td>\n",
       "      <td>0690449</td>\n",
       "      <td>043</td>\n",
       "      <td>Skinny fit</td>\n",
       "      <td>Pocket lining: Polyester 65%, Cotton 35%</td>\n",
       "      <td>NaN</td>\n",
       "      <td>Light denim blue</td>\n",
       "      <td>Denim</td>\n",
       "    </tr>\n",
       "  </tbody>\n",
       "</table>\n",
       "</div>"
      ],
      "text/plain": [
       "   product_id  product_category  product_name product_price  \\\n",
       "0  0690449043  men_jeans_ripped  Skinny Jeans       $ 39.99   \n",
       "1  0690449043  men_jeans_ripped  Skinny Jeans       $ 39.99   \n",
       "2  0690449043  men_jeans_ripped  Skinny Jeans       $ 39.99   \n",
       "3  0690449043  men_jeans_ripped  Skinny Jeans       $ 39.99   \n",
       "4  0690449043  men_jeans_ripped  Skinny Jeans       $ 39.99   \n",
       "\n",
       "       scrapy_datetime style_id color_id         Fit  \\\n",
       "0  2022-07-28 14:29:11  0690449      043  Skinny fit   \n",
       "1  2022-07-28 14:29:11  0690449      043  Skinny fit   \n",
       "2  2022-07-28 14:29:11  0690449      043  Skinny fit   \n",
       "3  2022-07-28 14:29:11  0690449      043  Skinny fit   \n",
       "4  2022-07-28 14:29:11  0690449      043  Skinny fit   \n",
       "\n",
       "                                Composition Size       Description  \\\n",
       "0                    Cotton 98%, Spandex 2%  NaN  Light denim blue   \n",
       "1  Pocket lining: Polyester 65%, Cotton 35%  NaN  Light denim blue   \n",
       "2  Pocket lining: Polyester 65%, Cotton 35%  NaN  Light denim blue   \n",
       "3  Pocket lining: Polyester 65%, Cotton 35%  NaN  Light denim blue   \n",
       "4  Pocket lining: Polyester 65%, Cotton 35%  NaN  Light denim blue   \n",
       "\n",
       "       Material  \n",
       "0  keyFibreType  \n",
       "1         Denim  \n",
       "2         Denim  \n",
       "3         Denim  \n",
       "4         Denim  "
      ]
     },
     "execution_count": 31,
     "metadata": {},
     "output_type": "execute_result"
    }
   ],
   "source": [
    "data_raw.head()"
   ]
  },
  {
   "cell_type": "code",
   "execution_count": null,
   "id": "aa1ebade",
   "metadata": {},
   "outputs": [],
   "source": []
  },
  {
   "cell_type": "code",
   "execution_count": null,
   "id": "e70259db",
   "metadata": {},
   "outputs": [],
   "source": []
  },
  {
   "cell_type": "code",
   "execution_count": null,
   "id": "ccd57dd1",
   "metadata": {},
   "outputs": [],
   "source": []
  },
  {
   "cell_type": "code",
   "execution_count": null,
   "id": "a6533737",
   "metadata": {},
   "outputs": [],
   "source": []
  },
  {
   "cell_type": "code",
   "execution_count": null,
   "id": "92034395",
   "metadata": {},
   "outputs": [],
   "source": []
  },
  {
   "cell_type": "code",
   "execution_count": null,
   "id": "015a3637",
   "metadata": {},
   "outputs": [],
   "source": []
  }
 ],
 "metadata": {
  "kernelspec": {
   "display_name": "Python 3 (ipykernel)",
   "language": "python",
   "name": "python3"
  },
  "language_info": {
   "codemirror_mode": {
    "name": "ipython",
    "version": 3
   },
   "file_extension": ".py",
   "mimetype": "text/x-python",
   "name": "python",
   "nbconvert_exporter": "python",
   "pygments_lexer": "ipython3",
   "version": "3.9.12"
  }
 },
 "nbformat": 4,
 "nbformat_minor": 5
}
