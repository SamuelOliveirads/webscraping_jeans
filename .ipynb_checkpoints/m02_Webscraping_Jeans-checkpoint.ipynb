{
 "cells": [
  {
   "cell_type": "markdown",
   "id": "5eaa1ac2",
   "metadata": {
    "heading_collapsed": true
   },
   "source": [
    "# Questão de Negócio"
   ]
  },
  {
   "cell_type": "markdown",
   "id": "2fbd05c7",
   "metadata": {
    "hidden": true
   },
   "source": [
    "A empresa Star Jeans! Eduardo e Marcelo são dois brasileiros, amigos e sócios de empreendimento. \n",
    "\n",
    "Depois de vários negócio bem sucedidos, eles estão planejando entrar no mercado de moda\n",
    "dos USA como um modelo de negócio do tipo E-commerce.\n",
    "\n",
    "A idéia inicial é entrar no mercado com apenas um produto e para um público específico, no caso\n",
    "o produto seria calças Jenas para o público masculino. O objetivo é manter o custo de operação\n",
    "baixo e escalar a medida que forem conseguindo clientes.\n",
    "\n",
    "Porém, mesmo com o produto de entrada e a audiência definidos, os dois sócios não tem experiência\n",
    "nesse mercado de moda e portanto não sabem definir coisas básicas como preço, o tipo de calça e\n",
    "o material para a fabricação de cada peça.\n",
    "\n",
    "Assim, os dois sócios contrataram uma consultoria de Ciência de Dados para responder as seguintes\n",
    "perguntas: \n",
    "1. Qual o melhor preço de venda para as calças? \n",
    "2. Quantos tipos de calças e suas cores para o produto inicial? \n",
    "3. Quais as matérias-prima necessárias para confeccionar as calças?\n",
    "\n",
    "As principais concorrentes da empresa Start Jeans são as americadas H&M e Macys."
   ]
  },
  {
   "cell_type": "markdown",
   "id": "36a60f16",
   "metadata": {
    "heading_collapsed": true
   },
   "source": [
    "# 0.0 Imports\n"
   ]
  },
  {
   "cell_type": "code",
   "execution_count": 46,
   "id": "0774dc6a",
   "metadata": {
    "ExecuteTime": {
     "end_time": "2022-07-31T00:33:19.157762Z",
     "start_time": "2022-07-31T00:33:19.139789Z"
    },
    "hidden": true
   },
   "outputs": [],
   "source": [
    "import sqlite3\n",
    "import requests\n",
    "import inflection\n",
    "import regex as re\n",
    "import numpy as np\n",
    "import pandas as pd\n",
    "import seaborn as sns\n",
    "\n",
    "from datetime import datetime\n",
    "from bs4 import BeautifulSoup\n",
    "from sqlalchemy import create_engine\n",
    "from matplotlib import pyplot as plt\n",
    "from IPython.core.display import HTML"
   ]
  },
  {
   "cell_type": "markdown",
   "id": "3b7ac345",
   "metadata": {
    "hidden": true
   },
   "source": [
    "## 0.1 Helper Functions "
   ]
  },
  {
   "cell_type": "code",
   "execution_count": 2,
   "id": "89b2bba1",
   "metadata": {
    "ExecuteTime": {
     "end_time": "2022-07-30T21:34:33.819715Z",
     "start_time": "2022-07-30T21:34:33.806723Z"
    },
    "hidden": true
   },
   "outputs": [],
   "source": [
    "def jupyter_settings():\n",
    "    %matplotlib inline\n",
    "    plt.style.use('bmh')\n",
    "    plt.rcParams['figure.figsize'] = [25,12]\n",
    "    plt.rcParams['font.size'] = 24\n",
    "    plt.rcParams['figure.dpi'] = 100\n",
    "    \n",
    "    display( HTML( '<style>.container{width:100% !important; }</style>'))\n",
    "    pd.set_option('display.float_format', lambda x: '%.2f' % x)\n",
    "    \n",
    "    # ignora future warnings\n",
    "    #warnings.filterwarnings('ignore')\n",
    "    \n",
    "    sns.set()"
   ]
  },
  {
   "cell_type": "code",
   "execution_count": 3,
   "id": "479a6ce8",
   "metadata": {
    "ExecuteTime": {
     "end_time": "2022-07-30T21:34:33.851697Z",
     "start_time": "2022-07-30T21:34:33.823714Z"
    },
    "hidden": true
   },
   "outputs": [
    {
     "data": {
      "text/html": [
       "<style>.container{width:100% !important; }</style>"
      ],
      "text/plain": [
       "<IPython.core.display.HTML object>"
      ]
     },
     "metadata": {},
     "output_type": "display_data"
    }
   ],
   "source": [
    "jupyter_settings()"
   ]
  },
  {
   "cell_type": "markdown",
   "id": "8614dd80",
   "metadata": {
    "heading_collapsed": true
   },
   "source": [
    "# 1.0 Extração de dados em HTML"
   ]
  },
  {
   "cell_type": "markdown",
   "id": "e4c4a76c",
   "metadata": {
    "heading_collapsed": true,
    "hidden": true
   },
   "source": [
    "## 1.1 Make collect from one page"
   ]
  },
  {
   "cell_type": "code",
   "execution_count": 4,
   "id": "5a32d5a6",
   "metadata": {
    "ExecuteTime": {
     "end_time": "2022-07-30T21:34:34.318282Z",
     "start_time": "2022-07-30T21:34:33.853696Z"
    },
    "hidden": true
   },
   "outputs": [],
   "source": [
    "# make request\n",
    "url = 'https://www2.hm.com/en_us/men/products/jeans.html'\n",
    "\n",
    "headers = {'User-Agent': 'Mozilla/5.0 {Macintosh; Intel Mac Os X 10_11_5) AppleWebKit/537.36 (KHTML, like Gecko) Chrome/50.0.2661.102 Safari/537.36}'}\n",
    "page = requests.get(url, headers=headers)"
   ]
  },
  {
   "cell_type": "code",
   "execution_count": 5,
   "id": "85628da2",
   "metadata": {
    "ExecuteTime": {
     "end_time": "2022-07-30T21:34:34.520166Z",
     "start_time": "2022-07-30T21:34:34.320270Z"
    },
    "hidden": true
   },
   "outputs": [],
   "source": [
    "# Instance Beautiful Soup\n",
    "soup = BeautifulSoup(page.text, \"html.parser\")"
   ]
  },
  {
   "cell_type": "code",
   "execution_count": 6,
   "id": "6e7f6ac9",
   "metadata": {
    "ExecuteTime": {
     "end_time": "2022-07-30T21:34:34.551111Z",
     "start_time": "2022-07-30T21:34:34.522157Z"
    },
    "hidden": true
   },
   "outputs": [],
   "source": [
    "# extract all products\n",
    "products = soup.find('ul', class_='products-listing small')"
   ]
  },
  {
   "cell_type": "code",
   "execution_count": 7,
   "id": "6a6f3d2c",
   "metadata": {
    "ExecuteTime": {
     "end_time": "2022-07-30T21:34:34.566102Z",
     "start_time": "2022-07-30T21:34:34.553110Z"
    },
    "hidden": true
   },
   "outputs": [],
   "source": [
    "product_list = products.find_all('article', class_='hm-product-item')\n",
    "\n",
    "# product id\n",
    "product_id = [p.get('data-articlecode') for p in product_list]\n",
    "\n",
    "# product_category\n",
    "product_category = [p.get('data-category') for p in product_list]"
   ]
  },
  {
   "cell_type": "code",
   "execution_count": 8,
   "id": "3f44276f",
   "metadata": {
    "ExecuteTime": {
     "end_time": "2022-07-30T21:34:34.597093Z",
     "start_time": "2022-07-30T21:34:34.568101Z"
    },
    "hidden": true
   },
   "outputs": [],
   "source": [
    "# product name\n",
    "product_list = products.find_all('a', class_='link')\n",
    "product_name = [p.get_text() for p in product_list]"
   ]
  },
  {
   "cell_type": "code",
   "execution_count": 9,
   "id": "5637004c",
   "metadata": {
    "ExecuteTime": {
     "end_time": "2022-07-30T21:34:34.612085Z",
     "start_time": "2022-07-30T21:34:34.603091Z"
    },
    "hidden": true
   },
   "outputs": [],
   "source": [
    "# price\n",
    "product_list = products.find_all('span', class_='price regular')\n",
    "product_price = [p.get_text() for p in product_list]"
   ]
  },
  {
   "cell_type": "code",
   "execution_count": 10,
   "id": "f82fce4b",
   "metadata": {
    "ExecuteTime": {
     "end_time": "2022-07-30T21:34:34.628078Z",
     "start_time": "2022-07-30T21:34:34.614084Z"
    },
    "hidden": true
   },
   "outputs": [],
   "source": [
    "# product color"
   ]
  },
  {
   "cell_type": "code",
   "execution_count": 11,
   "id": "384d61a4",
   "metadata": {
    "ExecuteTime": {
     "end_time": "2022-07-30T21:34:34.643070Z",
     "start_time": "2022-07-30T21:34:34.631074Z"
    },
    "hidden": true
   },
   "outputs": [],
   "source": [
    "# product composition"
   ]
  },
  {
   "cell_type": "code",
   "execution_count": 12,
   "id": "4bbf9d66",
   "metadata": {
    "ExecuteTime": {
     "end_time": "2022-07-30T21:34:34.658058Z",
     "start_time": "2022-07-30T21:34:34.645066Z"
    },
    "hidden": true
   },
   "outputs": [],
   "source": [
    "# merge scrapy into data frame\n",
    "data = pd.DataFrame([product_id, product_category, product_name, product_price]).T\n",
    "data.columns = ['product_id', 'product_category', 'product_name', 'product_price']\n",
    "\n",
    "# scrapy datetime\n",
    "data['scrapy_datetime'] = datetime.now().strftime('%Y-%m-%d %H:%M:%S')"
   ]
  },
  {
   "cell_type": "code",
   "execution_count": 13,
   "id": "cd39e59c",
   "metadata": {
    "ExecuteTime": {
     "end_time": "2022-07-30T21:34:34.689347Z",
     "start_time": "2022-07-30T21:34:34.661058Z"
    },
    "hidden": true
   },
   "outputs": [
    {
     "data": {
      "text/html": [
       "<div>\n",
       "<style scoped>\n",
       "    .dataframe tbody tr th:only-of-type {\n",
       "        vertical-align: middle;\n",
       "    }\n",
       "\n",
       "    .dataframe tbody tr th {\n",
       "        vertical-align: top;\n",
       "    }\n",
       "\n",
       "    .dataframe thead th {\n",
       "        text-align: right;\n",
       "    }\n",
       "</style>\n",
       "<table border=\"1\" class=\"dataframe\">\n",
       "  <thead>\n",
       "    <tr style=\"text-align: right;\">\n",
       "      <th></th>\n",
       "      <th>product_id</th>\n",
       "      <th>product_category</th>\n",
       "      <th>product_name</th>\n",
       "      <th>product_price</th>\n",
       "      <th>scrapy_datetime</th>\n",
       "    </tr>\n",
       "  </thead>\n",
       "  <tbody>\n",
       "    <tr>\n",
       "      <th>0</th>\n",
       "      <td>1024256002</td>\n",
       "      <td>men_jeans_slim</td>\n",
       "      <td>Slim Jeans</td>\n",
       "      <td>$ 24.99</td>\n",
       "      <td>2022-07-30 18:34:34</td>\n",
       "    </tr>\n",
       "    <tr>\n",
       "      <th>1</th>\n",
       "      <td>0971061004</td>\n",
       "      <td>men_jeans_slim</td>\n",
       "      <td>Slim Tapered Cropped Jeans</td>\n",
       "      <td>$ 29.99</td>\n",
       "      <td>2022-07-30 18:34:34</td>\n",
       "    </tr>\n",
       "    <tr>\n",
       "      <th>2</th>\n",
       "      <td>0690449022</td>\n",
       "      <td>men_jeans_ripped</td>\n",
       "      <td>Skinny Jeans</td>\n",
       "      <td>$ 39.99</td>\n",
       "      <td>2022-07-30 18:34:34</td>\n",
       "    </tr>\n",
       "    <tr>\n",
       "      <th>3</th>\n",
       "      <td>1013317006</td>\n",
       "      <td>men_jeans_joggers</td>\n",
       "      <td>Hybrid Regular Tapered Joggers</td>\n",
       "      <td>$ 44.99</td>\n",
       "      <td>2022-07-30 18:34:34</td>\n",
       "    </tr>\n",
       "    <tr>\n",
       "      <th>4</th>\n",
       "      <td>0875105023</td>\n",
       "      <td>men_jeans_relaxed</td>\n",
       "      <td>Relaxed Jeans</td>\n",
       "      <td>$ 29.99</td>\n",
       "      <td>2022-07-30 18:34:34</td>\n",
       "    </tr>\n",
       "  </tbody>\n",
       "</table>\n",
       "</div>"
      ],
      "text/plain": [
       "   product_id   product_category                    product_name  \\\n",
       "0  1024256002     men_jeans_slim                      Slim Jeans   \n",
       "1  0971061004     men_jeans_slim      Slim Tapered Cropped Jeans   \n",
       "2  0690449022   men_jeans_ripped                    Skinny Jeans   \n",
       "3  1013317006  men_jeans_joggers  Hybrid Regular Tapered Joggers   \n",
       "4  0875105023  men_jeans_relaxed                   Relaxed Jeans   \n",
       "\n",
       "  product_price      scrapy_datetime  \n",
       "0       $ 24.99  2022-07-30 18:34:34  \n",
       "1       $ 29.99  2022-07-30 18:34:34  \n",
       "2       $ 39.99  2022-07-30 18:34:34  \n",
       "3       $ 44.99  2022-07-30 18:34:34  \n",
       "4       $ 29.99  2022-07-30 18:34:34  "
      ]
     },
     "execution_count": 13,
     "metadata": {},
     "output_type": "execute_result"
    }
   ],
   "source": [
    "data.head()"
   ]
  },
  {
   "cell_type": "markdown",
   "id": "21630d58",
   "metadata": {
    "heading_collapsed": true,
    "hidden": true
   },
   "source": [
    "## 1.2 Request products from all pages"
   ]
  },
  {
   "cell_type": "code",
   "execution_count": 14,
   "id": "9187d1dc",
   "metadata": {
    "ExecuteTime": {
     "end_time": "2022-07-30T21:34:34.723327Z",
     "start_time": "2022-07-30T21:34:34.691345Z"
    },
    "hidden": true
   },
   "outputs": [
    {
     "data": {
      "text/plain": [
       "'77'"
      ]
     },
     "execution_count": 14,
     "metadata": {},
     "output_type": "execute_result"
    }
   ],
   "source": [
    "# collect all products available\n",
    "\n",
    "total_item = soup.find_all('h2', class_='load-more-heading')[0].get('data-total')\n",
    "total_item"
   ]
  },
  {
   "cell_type": "code",
   "execution_count": 15,
   "id": "de47dc29",
   "metadata": {
    "ExecuteTime": {
     "end_time": "2022-07-30T21:34:34.735321Z",
     "start_time": "2022-07-30T21:34:34.727325Z"
    },
    "hidden": true
   },
   "outputs": [
    {
     "data": {
      "text/plain": [
       "3.0"
      ]
     },
     "execution_count": 15,
     "metadata": {},
     "output_type": "execute_result"
    }
   ],
   "source": [
    "# detect total page numbers\n",
    "page_number = np.ceil(int(total_item)/36)\n",
    "page_number"
   ]
  },
  {
   "cell_type": "code",
   "execution_count": 16,
   "id": "7a6b7cc4",
   "metadata": {
    "ExecuteTime": {
     "end_time": "2022-07-30T21:34:34.751311Z",
     "start_time": "2022-07-30T21:34:34.740317Z"
    },
    "hidden": true
   },
   "outputs": [
    {
     "data": {
      "text/plain": [
       "'https://www2.hm.com/en_us/men/products/jeans.html?page-size108'"
      ]
     },
     "execution_count": 16,
     "metadata": {},
     "output_type": "execute_result"
    }
   ],
   "source": [
    "# create link from total of page numbers\n",
    "url02 = url + '?page-size' + str(int(page_number*36))\n",
    "url02"
   ]
  },
  {
   "cell_type": "markdown",
   "id": "324dd2b3",
   "metadata": {
    "hidden": true
   },
   "source": [
    "## 1.3 Collect product collor"
   ]
  },
  {
   "cell_type": "markdown",
   "id": "245c00dc",
   "metadata": {
    "heading_collapsed": true,
    "hidden": true
   },
   "source": [
    "### Testing One Product\n"
   ]
  },
  {
   "cell_type": "code",
   "execution_count": 17,
   "id": "6483d4cd",
   "metadata": {
    "ExecuteTime": {
     "end_time": "2022-07-30T21:34:34.767302Z",
     "start_time": "2022-07-30T21:34:34.757308Z"
    },
    "hidden": true
   },
   "outputs": [],
   "source": [
    "# #Api Request\n",
    "# url03 = 'https://www2.hm.com/en_us/productpage.0690449022.html'\n",
    "\n",
    "# page03 = requests.get(url03, headers=headers)\n",
    "\n",
    "# # Beautiful Soup\n",
    "# soup03 = BeautifulSoup(page03.text, 'html.parser')"
   ]
  },
  {
   "cell_type": "code",
   "execution_count": 18,
   "id": "66e161c2",
   "metadata": {
    "ExecuteTime": {
     "end_time": "2022-07-30T21:34:34.782293Z",
     "start_time": "2022-07-30T21:34:34.772299Z"
    },
    "hidden": true
   },
   "outputs": [],
   "source": [
    "# # color name\n",
    "# product_list = soup03.find_all('a', {'class':['filter-option miniature', 'filter-option miniature active']} )\n",
    "# color_name = [p.get('data-color') for p in product_list]\n",
    "\n",
    "# # product id\n",
    "# product_id = [p.get('data-articlecode') for p in product_list]\n",
    "\n",
    "# df_color = pd.DataFrame( [product_id, color_name]).T\n",
    "# df_color.columns = ['product_id', 'color_name']\n",
    "\n",
    "# # generate style id + color id\n",
    "# df_color['style_id'] = df_color['product_id'].apply(lambda x: x[:-3])\n",
    "# df_color['color_id'] = df_color['product_id'].apply(lambda x: x[-3:])"
   ]
  },
  {
   "cell_type": "code",
   "execution_count": 19,
   "id": "f72a5b5a",
   "metadata": {
    "ExecuteTime": {
     "end_time": "2022-07-30T21:34:34.798283Z",
     "start_time": "2022-07-30T21:34:34.787291Z"
    },
    "hidden": true
   },
   "outputs": [],
   "source": [
    "# # composition\n",
    "\n",
    "# product_composition_list = soup03.find_all('div', class_='details-attributes-list-item')\n",
    "# product_composition = [list(filter(None, p.get_text().split('\\n'))) for p in product_composition_list]\n",
    "\n",
    "# # rename dataframe\n",
    "# df_composition = pd.DataFrame(product_composition).T\n",
    "# df_composition.columns = df_composition.iloc[0]\n",
    "\n",
    "# # delete first row\n",
    "# df_composition = df_composition.iloc[1:].fillna(method='ffill')\n",
    "\n",
    "# # generate style id + color id\n",
    "# df_composition['style_id'] = df_composition['Art. No.'].apply(lambda x: x[:-3])\n",
    "# df_composition['color_id'] = df_composition['Art. No.'].apply(lambda x: x[-3:])\n",
    "\n",
    "# # merge data color + decomposition\n",
    "# data_sku = pd.merge(df_color, df_composition[['style_id', 'Fit', 'Composition']], how='left', on='style_id')\n",
    "\n",
    "# data_sku.to_csv('F:/SamuelOliveiraAlvesd/Desktop/Data_Science/Projetos/Ds_ao_Dev/webscraping_jeans/dataset/scraping_jeans_sample.csv', index=False)"
   ]
  },
  {
   "cell_type": "code",
   "execution_count": 20,
   "id": "4a0f0272",
   "metadata": {
    "ExecuteTime": {
     "end_time": "2022-07-30T21:34:34.844184Z",
     "start_time": "2022-07-30T21:34:34.804281Z"
    },
    "hidden": true
   },
   "outputs": [
    {
     "data": {
      "text/html": [
       "<div>\n",
       "<style scoped>\n",
       "    .dataframe tbody tr th:only-of-type {\n",
       "        vertical-align: middle;\n",
       "    }\n",
       "\n",
       "    .dataframe tbody tr th {\n",
       "        vertical-align: top;\n",
       "    }\n",
       "\n",
       "    .dataframe thead th {\n",
       "        text-align: right;\n",
       "    }\n",
       "</style>\n",
       "<table border=\"1\" class=\"dataframe\">\n",
       "  <thead>\n",
       "    <tr style=\"text-align: right;\">\n",
       "      <th></th>\n",
       "      <th>product_id</th>\n",
       "      <th>color_name</th>\n",
       "      <th>style_id</th>\n",
       "      <th>color_id</th>\n",
       "      <th>Fit</th>\n",
       "      <th>Composition</th>\n",
       "    </tr>\n",
       "  </thead>\n",
       "  <tbody>\n",
       "    <tr>\n",
       "      <th>0</th>\n",
       "      <td>690449001</td>\n",
       "      <td>Light denim blue/trashed</td>\n",
       "      <td>690449</td>\n",
       "      <td>1</td>\n",
       "      <td>Skinny fit</td>\n",
       "      <td>Cotton 98%, Spandex 2%</td>\n",
       "    </tr>\n",
       "    <tr>\n",
       "      <th>1</th>\n",
       "      <td>690449001</td>\n",
       "      <td>Light denim blue/trashed</td>\n",
       "      <td>690449</td>\n",
       "      <td>1</td>\n",
       "      <td>Skinny fit</td>\n",
       "      <td>Lining: Polyester 100%</td>\n",
       "    </tr>\n",
       "    <tr>\n",
       "      <th>2</th>\n",
       "      <td>690449001</td>\n",
       "      <td>Light denim blue/trashed</td>\n",
       "      <td>690449</td>\n",
       "      <td>1</td>\n",
       "      <td>Skinny fit</td>\n",
       "      <td>Lining: Polyester 100%</td>\n",
       "    </tr>\n",
       "    <tr>\n",
       "      <th>3</th>\n",
       "      <td>690449001</td>\n",
       "      <td>Light denim blue/trashed</td>\n",
       "      <td>690449</td>\n",
       "      <td>1</td>\n",
       "      <td>Skinny fit</td>\n",
       "      <td>Lining: Polyester 100%</td>\n",
       "    </tr>\n",
       "    <tr>\n",
       "      <th>4</th>\n",
       "      <td>690449001</td>\n",
       "      <td>Light denim blue/trashed</td>\n",
       "      <td>690449</td>\n",
       "      <td>1</td>\n",
       "      <td>Skinny fit</td>\n",
       "      <td>Lining: Polyester 100%</td>\n",
       "    </tr>\n",
       "    <tr>\n",
       "      <th>...</th>\n",
       "      <td>...</td>\n",
       "      <td>...</td>\n",
       "      <td>...</td>\n",
       "      <td>...</td>\n",
       "      <td>...</td>\n",
       "      <td>...</td>\n",
       "    </tr>\n",
       "    <tr>\n",
       "      <th>109</th>\n",
       "      <td>690449059</td>\n",
       "      <td>Denim blue</td>\n",
       "      <td>690449</td>\n",
       "      <td>59</td>\n",
       "      <td>Skinny fit</td>\n",
       "      <td>Lining: Polyester 100%</td>\n",
       "    </tr>\n",
       "    <tr>\n",
       "      <th>110</th>\n",
       "      <td>690449059</td>\n",
       "      <td>Denim blue</td>\n",
       "      <td>690449</td>\n",
       "      <td>59</td>\n",
       "      <td>Skinny fit</td>\n",
       "      <td>Lining: Polyester 100%</td>\n",
       "    </tr>\n",
       "    <tr>\n",
       "      <th>111</th>\n",
       "      <td>690449059</td>\n",
       "      <td>Denim blue</td>\n",
       "      <td>690449</td>\n",
       "      <td>59</td>\n",
       "      <td>Skinny fit</td>\n",
       "      <td>Lining: Polyester 100%</td>\n",
       "    </tr>\n",
       "    <tr>\n",
       "      <th>112</th>\n",
       "      <td>690449059</td>\n",
       "      <td>Denim blue</td>\n",
       "      <td>690449</td>\n",
       "      <td>59</td>\n",
       "      <td>Skinny fit</td>\n",
       "      <td>Lining: Polyester 100%</td>\n",
       "    </tr>\n",
       "    <tr>\n",
       "      <th>113</th>\n",
       "      <td>690449059</td>\n",
       "      <td>Denim blue</td>\n",
       "      <td>690449</td>\n",
       "      <td>59</td>\n",
       "      <td>Skinny fit</td>\n",
       "      <td>Lining: Polyester 100%</td>\n",
       "    </tr>\n",
       "  </tbody>\n",
       "</table>\n",
       "<p>114 rows × 6 columns</p>\n",
       "</div>"
      ],
      "text/plain": [
       "     product_id                color_name  style_id  color_id         Fit  \\\n",
       "0     690449001  Light denim blue/trashed    690449         1  Skinny fit   \n",
       "1     690449001  Light denim blue/trashed    690449         1  Skinny fit   \n",
       "2     690449001  Light denim blue/trashed    690449         1  Skinny fit   \n",
       "3     690449001  Light denim blue/trashed    690449         1  Skinny fit   \n",
       "4     690449001  Light denim blue/trashed    690449         1  Skinny fit   \n",
       "..          ...                       ...       ...       ...         ...   \n",
       "109   690449059                Denim blue    690449        59  Skinny fit   \n",
       "110   690449059                Denim blue    690449        59  Skinny fit   \n",
       "111   690449059                Denim blue    690449        59  Skinny fit   \n",
       "112   690449059                Denim blue    690449        59  Skinny fit   \n",
       "113   690449059                Denim blue    690449        59  Skinny fit   \n",
       "\n",
       "                Composition  \n",
       "0    Cotton 98%, Spandex 2%  \n",
       "1    Lining: Polyester 100%  \n",
       "2    Lining: Polyester 100%  \n",
       "3    Lining: Polyester 100%  \n",
       "4    Lining: Polyester 100%  \n",
       "..                      ...  \n",
       "109  Lining: Polyester 100%  \n",
       "110  Lining: Polyester 100%  \n",
       "111  Lining: Polyester 100%  \n",
       "112  Lining: Polyester 100%  \n",
       "113  Lining: Polyester 100%  \n",
       "\n",
       "[114 rows x 6 columns]"
      ]
     },
     "execution_count": 20,
     "metadata": {},
     "output_type": "execute_result"
    }
   ],
   "source": [
    "data_sku = pd.read_csv('F:/SamuelOliveiraAlvesd/Desktop/Data_Science/Projetos/Ds_ao_Dev/webscraping_jeans/dataset/scraping_jeans_sample.csv', low_memory=False)\n",
    "data_sku"
   ]
  },
  {
   "cell_type": "markdown",
   "id": "bf583be3",
   "metadata": {
    "hidden": true
   },
   "source": [
    "### All Product\n"
   ]
  },
  {
   "cell_type": "code",
   "execution_count": 21,
   "id": "a15c5125",
   "metadata": {
    "ExecuteTime": {
     "end_time": "2022-07-30T21:34:34.859178Z",
     "start_time": "2022-07-30T21:34:34.847183Z"
    },
    "hidden": true
   },
   "outputs": [],
   "source": [
    "# # Empty dataframe\n",
    "# df_details = pd.DataFrame()\n",
    "\n",
    "# # unique columns for all products\n",
    "# aux = []\n",
    "\n",
    "# cols = {'Art. No.', 'Care instructions', 'Composition', 'Concept', 'Description', 'Fit', 'Imported',\n",
    "#  'Material', 'More sustainable materials', 'Nice to know', 'Size', 'color_id', \n",
    "#  'messages.clothingStyle', 'messages.garmentLength', 'messages.waistRise', 'style_id'}\n",
    "# df_pattern = pd.DataFrame(columns=cols)\n",
    "\n",
    "# for i in range(len(data)):\n",
    "#     #Api Request\n",
    "#     url03 = 'https://www2.hm.com/en_us/productpage.' + data.loc[i, 'product_id'] + '.html'\n",
    "\n",
    "#     page03 = requests.get(url03, headers=headers)\n",
    "\n",
    "#     # Beautiful Soup\n",
    "#     soup03 = BeautifulSoup(page03.text, 'html.parser')\n",
    "\n",
    "#     # color name\n",
    "#     product_list = soup03.find_all('a', {'class':['filter-option miniature', 'filter-option miniature active']} )\n",
    "#     color_name = [p.get('data-color') for p in product_list]\n",
    "\n",
    "#     # product id\n",
    "#     product_id = [p.get('data-articlecode') for p in product_list]\n",
    "\n",
    "#     df_color = pd.DataFrame( [product_id, color_name]).T\n",
    "#     df_color.columns = ['product_id', 'color_name']\n",
    "\n",
    "#     # generate style id + color id\n",
    "#     df_color['style_id'] = df_color['product_id'].apply(lambda x: x[:-3])\n",
    "#     df_color['color_id'] = df_color['product_id'].apply(lambda x: x[-3:])\n",
    "\n",
    "#     # composition\n",
    "\n",
    "#     product_composition_list = soup03.find_all('div', class_='details-attributes-list-item')\n",
    "#     product_composition = [list(filter(None, p.get_text().split('\\n'))) for p in product_composition_list]\n",
    "\n",
    "#     # rename dataframe\n",
    "#     df_composition = pd.DataFrame(product_composition).T\n",
    "#     df_composition.columns = df_composition.iloc[0]\n",
    "\n",
    "#     # delete first row\n",
    "#     df_composition = df_composition.iloc[1:].fillna(method='ffill')\n",
    "    \n",
    "#     # garantee the same number of columns\n",
    "#     df_composition = pd.concat([df_pattern, df_composition], axis=0)\n",
    "    \n",
    "#     # generate style id + color id\n",
    "#     df_composition['style_id'] = df_composition['Art. No.'].apply(lambda x: x[:-3])\n",
    "#     df_composition['color_id'] = df_composition['Art. No.'].apply(lambda x: x[-3:])\n",
    "\n",
    "#     aux = aux + df_composition.columns.tolist()\n",
    "    \n",
    "#     # merge data color + decomposition\n",
    "#     data_sku = pd.merge(df_color, df_composition[['style_id', 'Fit', 'Composition', 'Size', 'Description'\n",
    "#                                                  , 'Material']], how='left', on='style_id')\n",
    "    \n",
    "#     # all details products\n",
    "#     df_details = pd.concat([df_details, data_sku], axis=0)\n",
    "\n",
    "# # Join showroom data + details\n",
    "# data['style_id'] = data['product_id'].apply(lambda x: x[:-3])\n",
    "# data['color_id'] = data['product_id'].apply(lambda x: x[-3:])\n",
    "\n",
    "# data_raw = pd.merge(data, df_details[['style_id', 'Fit', 'Size', 'color_name', 'Description',\n",
    "#                                     'Material', 'Composition']],how='left', on='style_id')\n",
    "\n",
    "# data_raw.to_csv('F:/SamuelOliveiraAlvesd/Desktop/Data_Science/Projetos/Ds_ao_Dev/webscraping_jeans/dataset/scraping_jeans_raw.csv', index=False)"
   ]
  },
  {
   "cell_type": "code",
   "execution_count": 22,
   "id": "61b7de74",
   "metadata": {
    "ExecuteTime": {
     "end_time": "2022-07-30T21:34:34.921140Z",
     "start_time": "2022-07-30T21:34:34.861174Z"
    },
    "hidden": true
   },
   "outputs": [
    {
     "data": {
      "text/html": [
       "<div>\n",
       "<style scoped>\n",
       "    .dataframe tbody tr th:only-of-type {\n",
       "        vertical-align: middle;\n",
       "    }\n",
       "\n",
       "    .dataframe tbody tr th {\n",
       "        vertical-align: top;\n",
       "    }\n",
       "\n",
       "    .dataframe thead th {\n",
       "        text-align: right;\n",
       "    }\n",
       "</style>\n",
       "<table border=\"1\" class=\"dataframe\">\n",
       "  <thead>\n",
       "    <tr style=\"text-align: right;\">\n",
       "      <th></th>\n",
       "      <th>product_id</th>\n",
       "      <th>product_category</th>\n",
       "      <th>product_name</th>\n",
       "      <th>product_price</th>\n",
       "      <th>scrapy_datetime</th>\n",
       "      <th>style_id</th>\n",
       "      <th>color_id</th>\n",
       "      <th>Fit</th>\n",
       "      <th>Size</th>\n",
       "      <th>color_name</th>\n",
       "      <th>Description</th>\n",
       "      <th>Material</th>\n",
       "      <th>Composition</th>\n",
       "    </tr>\n",
       "  </thead>\n",
       "  <tbody>\n",
       "    <tr>\n",
       "      <th>0</th>\n",
       "      <td>971061004</td>\n",
       "      <td>men_jeans_slim</td>\n",
       "      <td>Slim Tapered Cropped Jeans</td>\n",
       "      <td>$ 29.99</td>\n",
       "      <td>2022-07-30 17:16:46</td>\n",
       "      <td>971061</td>\n",
       "      <td>4</td>\n",
       "      <td>Slim fit</td>\n",
       "      <td>NaN</td>\n",
       "      <td>Pale denim blue</td>\n",
       "      <td>Light denim blue</td>\n",
       "      <td>Denim</td>\n",
       "      <td>Cotton 99%, Spandex 1%</td>\n",
       "    </tr>\n",
       "    <tr>\n",
       "      <th>1</th>\n",
       "      <td>971061004</td>\n",
       "      <td>men_jeans_slim</td>\n",
       "      <td>Slim Tapered Cropped Jeans</td>\n",
       "      <td>$ 29.99</td>\n",
       "      <td>2022-07-30 17:16:46</td>\n",
       "      <td>971061</td>\n",
       "      <td>4</td>\n",
       "      <td>Slim fit</td>\n",
       "      <td>NaN</td>\n",
       "      <td>Pale denim blue</td>\n",
       "      <td>Solid-color</td>\n",
       "      <td>Denim</td>\n",
       "      <td>Cotton 99%, Spandex 1%</td>\n",
       "    </tr>\n",
       "    <tr>\n",
       "      <th>2</th>\n",
       "      <td>971061004</td>\n",
       "      <td>men_jeans_slim</td>\n",
       "      <td>Slim Tapered Cropped Jeans</td>\n",
       "      <td>$ 29.99</td>\n",
       "      <td>2022-07-30 17:16:46</td>\n",
       "      <td>971061</td>\n",
       "      <td>4</td>\n",
       "      <td>Slim fit</td>\n",
       "      <td>NaN</td>\n",
       "      <td>Pale denim blue</td>\n",
       "      <td>Solid-color</td>\n",
       "      <td>Denim</td>\n",
       "      <td>Cotton 99%, Spandex 1%</td>\n",
       "    </tr>\n",
       "    <tr>\n",
       "      <th>3</th>\n",
       "      <td>971061004</td>\n",
       "      <td>men_jeans_slim</td>\n",
       "      <td>Slim Tapered Cropped Jeans</td>\n",
       "      <td>$ 29.99</td>\n",
       "      <td>2022-07-30 17:16:46</td>\n",
       "      <td>971061</td>\n",
       "      <td>4</td>\n",
       "      <td>Slim fit</td>\n",
       "      <td>NaN</td>\n",
       "      <td>Pale denim blue</td>\n",
       "      <td>Solid-color</td>\n",
       "      <td>Denim</td>\n",
       "      <td>Cotton 99%, Spandex 1%</td>\n",
       "    </tr>\n",
       "    <tr>\n",
       "      <th>4</th>\n",
       "      <td>971061004</td>\n",
       "      <td>men_jeans_slim</td>\n",
       "      <td>Slim Tapered Cropped Jeans</td>\n",
       "      <td>$ 29.99</td>\n",
       "      <td>2022-07-30 17:16:46</td>\n",
       "      <td>971061</td>\n",
       "      <td>4</td>\n",
       "      <td>Slim fit</td>\n",
       "      <td>NaN</td>\n",
       "      <td>Pale denim blue</td>\n",
       "      <td>Solid-color</td>\n",
       "      <td>Denim</td>\n",
       "      <td>Cotton 99%, Spandex 1%</td>\n",
       "    </tr>\n",
       "  </tbody>\n",
       "</table>\n",
       "</div>"
      ],
      "text/plain": [
       "   product_id product_category                product_name product_price  \\\n",
       "0   971061004   men_jeans_slim  Slim Tapered Cropped Jeans       $ 29.99   \n",
       "1   971061004   men_jeans_slim  Slim Tapered Cropped Jeans       $ 29.99   \n",
       "2   971061004   men_jeans_slim  Slim Tapered Cropped Jeans       $ 29.99   \n",
       "3   971061004   men_jeans_slim  Slim Tapered Cropped Jeans       $ 29.99   \n",
       "4   971061004   men_jeans_slim  Slim Tapered Cropped Jeans       $ 29.99   \n",
       "\n",
       "       scrapy_datetime  style_id  color_id       Fit Size       color_name  \\\n",
       "0  2022-07-30 17:16:46    971061         4  Slim fit  NaN  Pale denim blue   \n",
       "1  2022-07-30 17:16:46    971061         4  Slim fit  NaN  Pale denim blue   \n",
       "2  2022-07-30 17:16:46    971061         4  Slim fit  NaN  Pale denim blue   \n",
       "3  2022-07-30 17:16:46    971061         4  Slim fit  NaN  Pale denim blue   \n",
       "4  2022-07-30 17:16:46    971061         4  Slim fit  NaN  Pale denim blue   \n",
       "\n",
       "        Description Material             Composition  \n",
       "0  Light denim blue    Denim  Cotton 99%, Spandex 1%  \n",
       "1       Solid-color    Denim  Cotton 99%, Spandex 1%  \n",
       "2       Solid-color    Denim  Cotton 99%, Spandex 1%  \n",
       "3       Solid-color    Denim  Cotton 99%, Spandex 1%  \n",
       "4       Solid-color    Denim  Cotton 99%, Spandex 1%  "
      ]
     },
     "execution_count": 22,
     "metadata": {},
     "output_type": "execute_result"
    }
   ],
   "source": [
    "data_raw = pd.read_csv('F:/SamuelOliveiraAlvesd/Desktop/Data_Science/Projetos/Ds_ao_Dev/webscraping_jeans/dataset/scraping_jeans_raw.csv', low_memory=False)\n",
    "data_raw.head()"
   ]
  },
  {
   "cell_type": "markdown",
   "id": "98423f80",
   "metadata": {},
   "source": [
    "# 2.0 Descrição dos dados"
   ]
  },
  {
   "cell_type": "code",
   "execution_count": 23,
   "id": "e70259db",
   "metadata": {
    "ExecuteTime": {
     "end_time": "2022-07-30T21:34:34.937140Z",
     "start_time": "2022-07-30T21:34:34.923139Z"
    }
   },
   "outputs": [],
   "source": [
    "data1 = data_raw.copy()"
   ]
  },
  {
   "cell_type": "code",
   "execution_count": 24,
   "id": "a9454398",
   "metadata": {
    "ExecuteTime": {
     "end_time": "2022-07-30T21:34:34.968130Z",
     "start_time": "2022-07-30T21:34:34.940138Z"
    }
   },
   "outputs": [
    {
     "data": {
      "text/html": [
       "<div>\n",
       "<style scoped>\n",
       "    .dataframe tbody tr th:only-of-type {\n",
       "        vertical-align: middle;\n",
       "    }\n",
       "\n",
       "    .dataframe tbody tr th {\n",
       "        vertical-align: top;\n",
       "    }\n",
       "\n",
       "    .dataframe thead th {\n",
       "        text-align: right;\n",
       "    }\n",
       "</style>\n",
       "<table border=\"1\" class=\"dataframe\">\n",
       "  <thead>\n",
       "    <tr style=\"text-align: right;\">\n",
       "      <th></th>\n",
       "      <th>product_id</th>\n",
       "      <th>product_category</th>\n",
       "      <th>product_name</th>\n",
       "      <th>product_price</th>\n",
       "      <th>scrapy_datetime</th>\n",
       "      <th>style_id</th>\n",
       "      <th>color_id</th>\n",
       "      <th>Fit</th>\n",
       "      <th>Size</th>\n",
       "      <th>color_name</th>\n",
       "      <th>Description</th>\n",
       "      <th>Material</th>\n",
       "      <th>Composition</th>\n",
       "    </tr>\n",
       "  </thead>\n",
       "  <tbody>\n",
       "    <tr>\n",
       "      <th>0</th>\n",
       "      <td>971061004</td>\n",
       "      <td>men_jeans_slim</td>\n",
       "      <td>Slim Tapered Cropped Jeans</td>\n",
       "      <td>$ 29.99</td>\n",
       "      <td>2022-07-30 17:16:46</td>\n",
       "      <td>971061</td>\n",
       "      <td>4</td>\n",
       "      <td>Slim fit</td>\n",
       "      <td>NaN</td>\n",
       "      <td>Pale denim blue</td>\n",
       "      <td>Light denim blue</td>\n",
       "      <td>Denim</td>\n",
       "      <td>Cotton 99%, Spandex 1%</td>\n",
       "    </tr>\n",
       "    <tr>\n",
       "      <th>1</th>\n",
       "      <td>971061004</td>\n",
       "      <td>men_jeans_slim</td>\n",
       "      <td>Slim Tapered Cropped Jeans</td>\n",
       "      <td>$ 29.99</td>\n",
       "      <td>2022-07-30 17:16:46</td>\n",
       "      <td>971061</td>\n",
       "      <td>4</td>\n",
       "      <td>Slim fit</td>\n",
       "      <td>NaN</td>\n",
       "      <td>Pale denim blue</td>\n",
       "      <td>Solid-color</td>\n",
       "      <td>Denim</td>\n",
       "      <td>Cotton 99%, Spandex 1%</td>\n",
       "    </tr>\n",
       "    <tr>\n",
       "      <th>2</th>\n",
       "      <td>971061004</td>\n",
       "      <td>men_jeans_slim</td>\n",
       "      <td>Slim Tapered Cropped Jeans</td>\n",
       "      <td>$ 29.99</td>\n",
       "      <td>2022-07-30 17:16:46</td>\n",
       "      <td>971061</td>\n",
       "      <td>4</td>\n",
       "      <td>Slim fit</td>\n",
       "      <td>NaN</td>\n",
       "      <td>Pale denim blue</td>\n",
       "      <td>Solid-color</td>\n",
       "      <td>Denim</td>\n",
       "      <td>Cotton 99%, Spandex 1%</td>\n",
       "    </tr>\n",
       "    <tr>\n",
       "      <th>3</th>\n",
       "      <td>971061004</td>\n",
       "      <td>men_jeans_slim</td>\n",
       "      <td>Slim Tapered Cropped Jeans</td>\n",
       "      <td>$ 29.99</td>\n",
       "      <td>2022-07-30 17:16:46</td>\n",
       "      <td>971061</td>\n",
       "      <td>4</td>\n",
       "      <td>Slim fit</td>\n",
       "      <td>NaN</td>\n",
       "      <td>Pale denim blue</td>\n",
       "      <td>Solid-color</td>\n",
       "      <td>Denim</td>\n",
       "      <td>Cotton 99%, Spandex 1%</td>\n",
       "    </tr>\n",
       "    <tr>\n",
       "      <th>4</th>\n",
       "      <td>971061004</td>\n",
       "      <td>men_jeans_slim</td>\n",
       "      <td>Slim Tapered Cropped Jeans</td>\n",
       "      <td>$ 29.99</td>\n",
       "      <td>2022-07-30 17:16:46</td>\n",
       "      <td>971061</td>\n",
       "      <td>4</td>\n",
       "      <td>Slim fit</td>\n",
       "      <td>NaN</td>\n",
       "      <td>Pale denim blue</td>\n",
       "      <td>Solid-color</td>\n",
       "      <td>Denim</td>\n",
       "      <td>Cotton 99%, Spandex 1%</td>\n",
       "    </tr>\n",
       "  </tbody>\n",
       "</table>\n",
       "</div>"
      ],
      "text/plain": [
       "   product_id product_category                product_name product_price  \\\n",
       "0   971061004   men_jeans_slim  Slim Tapered Cropped Jeans       $ 29.99   \n",
       "1   971061004   men_jeans_slim  Slim Tapered Cropped Jeans       $ 29.99   \n",
       "2   971061004   men_jeans_slim  Slim Tapered Cropped Jeans       $ 29.99   \n",
       "3   971061004   men_jeans_slim  Slim Tapered Cropped Jeans       $ 29.99   \n",
       "4   971061004   men_jeans_slim  Slim Tapered Cropped Jeans       $ 29.99   \n",
       "\n",
       "       scrapy_datetime  style_id  color_id       Fit Size       color_name  \\\n",
       "0  2022-07-30 17:16:46    971061         4  Slim fit  NaN  Pale denim blue   \n",
       "1  2022-07-30 17:16:46    971061         4  Slim fit  NaN  Pale denim blue   \n",
       "2  2022-07-30 17:16:46    971061         4  Slim fit  NaN  Pale denim blue   \n",
       "3  2022-07-30 17:16:46    971061         4  Slim fit  NaN  Pale denim blue   \n",
       "4  2022-07-30 17:16:46    971061         4  Slim fit  NaN  Pale denim blue   \n",
       "\n",
       "        Description Material             Composition  \n",
       "0  Light denim blue    Denim  Cotton 99%, Spandex 1%  \n",
       "1       Solid-color    Denim  Cotton 99%, Spandex 1%  \n",
       "2       Solid-color    Denim  Cotton 99%, Spandex 1%  \n",
       "3       Solid-color    Denim  Cotton 99%, Spandex 1%  \n",
       "4       Solid-color    Denim  Cotton 99%, Spandex 1%  "
      ]
     },
     "execution_count": 24,
     "metadata": {},
     "output_type": "execute_result"
    }
   ],
   "source": [
    "data1.head()"
   ]
  },
  {
   "cell_type": "markdown",
   "id": "04c0dc0b",
   "metadata": {},
   "source": [
    "## 2.1 Rename Columns"
   ]
  },
  {
   "cell_type": "code",
   "execution_count": 25,
   "id": "b763f3b0",
   "metadata": {
    "ExecuteTime": {
     "end_time": "2022-07-30T21:34:34.983980Z",
     "start_time": "2022-07-30T21:34:34.971129Z"
    }
   },
   "outputs": [],
   "source": [
    "old_cols = ['product_id', 'product_category', 'product_name', 'product_price',\n",
    "       'scrapy_datetime', 'style_id', 'color_id', 'Fit', 'Size', 'color_name',\n",
    "       'Description', 'Material', 'Composition']\n",
    "\n",
    "snakecase = lambda x : inflection.underscore(x)\n",
    "\n",
    "new_cols = list(map(snakecase, old_cols))\n",
    "\n",
    "data1.columns = new_cols"
   ]
  },
  {
   "cell_type": "markdown",
   "id": "ee9fc9b9",
   "metadata": {},
   "source": [
    "## 2.2 Data dimension"
   ]
  },
  {
   "cell_type": "code",
   "execution_count": 26,
   "id": "ba6381cb",
   "metadata": {
    "ExecuteTime": {
     "end_time": "2022-07-30T21:34:34.999973Z",
     "start_time": "2022-07-30T21:34:34.988977Z"
    }
   },
   "outputs": [
    {
     "name": "stdout",
     "output_type": "stream",
     "text": [
      "Number of rows: 9073\n",
      "Number of columns: 13\n"
     ]
    }
   ],
   "source": [
    "print(f'Number of rows: {data1.shape[0]}')\n",
    "print(f'Number of columns: {data1.shape[1]}')"
   ]
  },
  {
   "cell_type": "markdown",
   "id": "5f53f1f2",
   "metadata": {},
   "source": [
    "## 2.3 Check NA"
   ]
  },
  {
   "cell_type": "code",
   "execution_count": 27,
   "id": "a6533737",
   "metadata": {
    "ExecuteTime": {
     "end_time": "2022-07-30T21:34:35.031953Z",
     "start_time": "2022-07-30T21:34:35.005967Z"
    }
   },
   "outputs": [
    {
     "data": {
      "text/plain": [
       "product_id             0\n",
       "product_category       0\n",
       "product_name           0\n",
       "product_price          0\n",
       "scrapy_datetime        0\n",
       "style_id               0\n",
       "color_id               0\n",
       "fit                    0\n",
       "size                8254\n",
       "color_name             0\n",
       "description            0\n",
       "material               0\n",
       "composition            0\n",
       "dtype: int64"
      ]
     },
     "execution_count": 27,
     "metadata": {},
     "output_type": "execute_result"
    }
   ],
   "source": [
    "data1.isna().sum()"
   ]
  },
  {
   "cell_type": "markdown",
   "id": "21e547d7",
   "metadata": {},
   "source": [
    "## 2.4 Fillout NA"
   ]
  },
  {
   "cell_type": "code",
   "execution_count": 28,
   "id": "6204da51",
   "metadata": {
    "ExecuteTime": {
     "end_time": "2022-07-30T21:34:35.046671Z",
     "start_time": "2022-07-30T21:34:35.033950Z"
    }
   },
   "outputs": [
    {
     "data": {
      "text/plain": [
       "array([nan, 'Inner leg: Length: 89.5 cm (Size 33)',\n",
       "       'Waist: Circumference: 90.5 cm (Size 33)'], dtype=object)"
      ]
     },
     "execution_count": 28,
     "metadata": {},
     "output_type": "execute_result"
    }
   ],
   "source": [
    "# check type of data\n",
    "data1['size'].unique()"
   ]
  },
  {
   "cell_type": "code",
   "execution_count": 29,
   "id": "5def1b2e",
   "metadata": {
    "ExecuteTime": {
     "end_time": "2022-07-30T21:34:35.077848Z",
     "start_time": "2022-07-30T21:34:35.048670Z"
    }
   },
   "outputs": [],
   "source": [
    "# Create Collumn Inner Leg\n",
    "data1['inner_leg_size'] = data1['size'].apply(lambda x: 89.5 if x=='Inner leg: Length: 89.5 cm (Size 33)'\n",
    "                                              else 0)\n",
    "\n",
    "# Create collumn Waist\n",
    "data1['waist_size'] = data1['size'].apply(lambda x: 90.5 if x=='Waist: Circumference: 90.5 cm (Size 33)'\n",
    "                                              else 0)\n",
    "\n",
    "# fillout size value\n",
    "data1['size'] = data1['size'].apply(lambda x: 0 if pd.isnull(x) else 33)"
   ]
  },
  {
   "cell_type": "code",
   "execution_count": 30,
   "id": "e0b933f4",
   "metadata": {
    "ExecuteTime": {
     "end_time": "2022-07-30T21:34:35.108850Z",
     "start_time": "2022-07-30T21:34:35.079848Z"
    }
   },
   "outputs": [
    {
     "data": {
      "text/plain": [
       "product_id          0\n",
       "product_category    0\n",
       "product_name        0\n",
       "product_price       0\n",
       "scrapy_datetime     0\n",
       "style_id            0\n",
       "color_id            0\n",
       "fit                 0\n",
       "size                0\n",
       "color_name          0\n",
       "description         0\n",
       "material            0\n",
       "composition         0\n",
       "inner_leg_size      0\n",
       "waist_size          0\n",
       "dtype: int64"
      ]
     },
     "execution_count": 30,
     "metadata": {},
     "output_type": "execute_result"
    }
   ],
   "source": [
    "# check result\n",
    "data1.isna().sum()"
   ]
  },
  {
   "cell_type": "markdown",
   "id": "61ed86fe",
   "metadata": {},
   "source": [
    "## 2.5 Cleaning Data"
   ]
  },
  {
   "cell_type": "code",
   "execution_count": 31,
   "id": "dd49e49a",
   "metadata": {
    "ExecuteTime": {
     "end_time": "2022-07-30T21:34:35.139849Z",
     "start_time": "2022-07-30T21:34:35.110849Z"
    }
   },
   "outputs": [],
   "source": [
    "# drop duplicates\n",
    "data1 = data1.drop_duplicates()\n",
    "\n",
    "# product_name - undercase and removing special characters\n",
    "data1['product_name'] = data1['product_name'].apply(lambda x: x.replace(' ', '_').replace('®', '').lower())\n",
    "\n",
    "# price - removing \"$\"\n",
    "data1['product_price'] = data1['product_price'].apply(lambda x: x.replace('$ ', ''))\n",
    "\n",
    "# color_name - undercase and removing space\n",
    "data1['color_name'] = data1['color_name'].apply(lambda x: x.replace(' ', '_').replace('/', '_').lower())\n",
    "\n",
    "# fit - undercase and removing space\n",
    "data1['fit'] = data1['fit'].apply(lambda x: x.replace(' ', '_').lower())"
   ]
  },
  {
   "cell_type": "code",
   "execution_count": 32,
   "id": "236ebf65",
   "metadata": {
    "ExecuteTime": {
     "end_time": "2022-07-30T21:34:35.218351Z",
     "start_time": "2022-07-30T21:34:35.142831Z"
    }
   },
   "outputs": [],
   "source": [
    "# Cleaning composition\n",
    "\n",
    "# Remove composition from details in products\n",
    "data1 = data1[~data1['composition'].str.contains('Shell', na=False)]\n",
    "data1 = data1[~data1['composition'].str.contains('Pocket lining', na=False)]\n",
    "data1 = data1[~data1['composition'].str.contains('Pocket', na=False)]\n",
    "data1 = data1[~data1['composition'].str.contains('Lining', na=False)]\n",
    "\n",
    "# reset index\n",
    "data1 = data1.reset_index(drop=True)\n",
    "\n",
    "# break composition by comma\n",
    "dfaux = data1['composition'].str.split(',', expand=True)\n",
    "\n",
    "# choose order from columns\n",
    "df_ref = pd.DataFrame(index=np.arange(len(data1)), columns=['cotton', 'spandex', 'polyester'])\n",
    "\n",
    "# cotton - collect all data\n",
    "df_cotton = dfaux[0]\n",
    "df_cotton.name = 'cotton'\n",
    "\n",
    "df_ref = pd.concat([df_ref, df_cotton], axis=1)\n",
    "df_ref = df_ref.iloc[:, ~df_ref.columns.duplicated(keep='last')]\n",
    "\n",
    "# spandex - collect all data\n",
    "df_spandex = dfaux.loc[dfaux[1].str.contains('Spandex', na=True), 1]\n",
    "df_spandex.name = 'spandex'\n",
    "\n",
    "df_ref = pd.concat([df_ref, df_spandex], axis=1)\n",
    "df_ref = df_ref.iloc[:, ~df_ref.columns.duplicated(keep='last')]\n",
    "\n",
    "df_spandex2 = dfaux.loc[dfaux[2].str.contains('Spandex', na=True), 2]\n",
    "df_spandex2.name = 'spandex2'\n",
    "\n",
    "df_ref = pd.concat([df_ref, df_spandex2], axis=1)\n",
    "df_ref['spandex'] = df_ref.apply(lambda x: x['spandex'] if pd.isna(x['spandex2']) else x['spandex2'], axis=1)\n",
    "df_ref.drop(columns='spandex2', inplace=True)\n",
    "\n",
    "# polyester - collect all data\n",
    "df_polyester = dfaux.loc[dfaux[1].str.contains('Polyester', na=True), 1]\n",
    "df_polyester.name = 'polyester'\n",
    "\n",
    "df_ref = pd.concat([df_ref, df_polyester], axis=1)\n",
    "df_ref = df_ref.iloc[:, ~df_ref.columns.duplicated(keep='last')]\n",
    "\n",
    "# drop all rows with NA\n",
    "df_ref.dropna(axis=0, how='all', inplace=True)\n",
    "\n",
    "# final join\n",
    "data1 = pd.concat([data1, df_ref], axis=1)\n",
    "\n",
    "# format composition data\n",
    "data1['cotton'] = data1['cotton'].apply(lambda x: int(re.search('\\d+', x).group(0))/100 if pd.notnull(x) else x)\n",
    "data1['spandex'] = data1['spandex'].apply(lambda x: int(re.search('\\d+', x).group(0))/100 if pd.notnull(x) else x)\n",
    "data1['polyester'] = data1['polyester'].apply(lambda x: int(re.search('\\d+', x).group(0))/100 if pd.notnull(x) else x)\n",
    "\n",
    "# cleaning NA in polyester\n",
    "data1['polyester'].fillna(0, inplace=True)"
   ]
  },
  {
   "cell_type": "code",
   "execution_count": 33,
   "id": "1456bbc6",
   "metadata": {
    "ExecuteTime": {
     "end_time": "2022-07-30T21:34:35.233992Z",
     "start_time": "2022-07-30T21:34:35.223349Z"
    }
   },
   "outputs": [],
   "source": [
    "# description - undercase and removing space\n",
    "data1['description'] = data1['description'].apply(lambda x: x.replace(' ', '_').lower())\n",
    "\n",
    "# material - undercase and removing space\n",
    "data1['material'] = data1['material'].apply(lambda x: x.replace(' ', '_').lower())"
   ]
  },
  {
   "cell_type": "markdown",
   "id": "140011f6",
   "metadata": {},
   "source": [
    "## 2.6 Data types"
   ]
  },
  {
   "cell_type": "code",
   "execution_count": 34,
   "id": "a8e68913",
   "metadata": {
    "ExecuteTime": {
     "end_time": "2022-07-30T21:34:35.264992Z",
     "start_time": "2022-07-30T21:34:35.240989Z"
    }
   },
   "outputs": [
    {
     "data": {
      "text/plain": [
       "product_id            int64\n",
       "product_category     object\n",
       "product_name         object\n",
       "product_price        object\n",
       "scrapy_datetime      object\n",
       "style_id              int64\n",
       "color_id              int64\n",
       "fit                  object\n",
       "size                  int64\n",
       "color_name           object\n",
       "description          object\n",
       "material             object\n",
       "composition          object\n",
       "inner_leg_size      float64\n",
       "waist_size          float64\n",
       "cotton              float64\n",
       "spandex             float64\n",
       "polyester           float64\n",
       "dtype: object"
      ]
     },
     "execution_count": 34,
     "metadata": {},
     "output_type": "execute_result"
    }
   ],
   "source": [
    "# checking types\n",
    "data1.dtypes"
   ]
  },
  {
   "cell_type": "markdown",
   "id": "3f0c53b2",
   "metadata": {},
   "source": [
    "## 2.6 Change Types"
   ]
  },
  {
   "cell_type": "code",
   "execution_count": 35,
   "id": "6c8a73ef",
   "metadata": {
    "ExecuteTime": {
     "end_time": "2022-07-30T21:34:35.295659Z",
     "start_time": "2022-07-30T21:34:35.266974Z"
    }
   },
   "outputs": [],
   "source": [
    "# product_id\n",
    "data1['product_id'] = data1['product_id'].astype('int64')\n",
    "\n",
    "# product_price\n",
    "data1['product_price'] = data1['product_price'].astype('float64')\n",
    "\n",
    "# scrapy_datetime\n",
    "data1['scrapy_datetime'] = pd.to_datetime(data1['scrapy_datetime'], format='%Y-%m-%d %H:%M:%S')\n",
    "\n",
    "# style_id\n",
    "data1['style_id'] = data1['style_id'].astype('int64')\n",
    "\n",
    "# color_id\n",
    "data1['color_id'] = data1['color_id'].astype('int64')\n",
    "\n",
    "# cotton\n",
    "data1['cotton'] = data1['cotton'].astype('float64')\n",
    "\n",
    "# spandex\n",
    "data1['spandex'] = data1['spandex'].astype('float64')\n",
    "\n",
    "# polyester\n",
    "data1['polyester'] = data1['polyester'].astype('float64')"
   ]
  },
  {
   "cell_type": "code",
   "execution_count": 36,
   "id": "e73d7006",
   "metadata": {
    "ExecuteTime": {
     "end_time": "2022-07-30T21:34:35.311649Z",
     "start_time": "2022-07-30T21:34:35.298656Z"
    }
   },
   "outputs": [
    {
     "data": {
      "text/plain": [
       "product_id                   int64\n",
       "product_category            object\n",
       "product_name                object\n",
       "product_price              float64\n",
       "scrapy_datetime     datetime64[ns]\n",
       "style_id                     int64\n",
       "color_id                     int64\n",
       "fit                         object\n",
       "size                         int64\n",
       "color_name                  object\n",
       "description                 object\n",
       "material                    object\n",
       "composition                 object\n",
       "inner_leg_size             float64\n",
       "waist_size                 float64\n",
       "cotton                     float64\n",
       "spandex                    float64\n",
       "polyester                  float64\n",
       "dtype: object"
      ]
     },
     "execution_count": 36,
     "metadata": {},
     "output_type": "execute_result"
    }
   ],
   "source": [
    "# check result\n",
    "data1.dtypes"
   ]
  },
  {
   "cell_type": "markdown",
   "id": "726fdc70",
   "metadata": {},
   "source": [
    "## 2.7 Drop columns"
   ]
  },
  {
   "cell_type": "code",
   "execution_count": 37,
   "id": "015a3637",
   "metadata": {
    "ExecuteTime": {
     "end_time": "2022-07-30T21:34:35.327640Z",
     "start_time": "2022-07-30T21:34:35.313648Z"
    }
   },
   "outputs": [],
   "source": [
    "# drop composition\n",
    "data1.drop(columns='composition', inplace=True)"
   ]
  },
  {
   "cell_type": "markdown",
   "id": "0c70bbcc",
   "metadata": {},
   "source": [
    "## 2.8 Saving model for database"
   ]
  },
  {
   "cell_type": "code",
   "execution_count": 44,
   "id": "f43b0303",
   "metadata": {
    "ExecuteTime": {
     "end_time": "2022-07-31T00:32:32.540780Z",
     "start_time": "2022-07-31T00:32:32.515794Z"
    }
   },
   "outputs": [
    {
     "data": {
      "text/html": [
       "<div>\n",
       "<style scoped>\n",
       "    .dataframe tbody tr th:only-of-type {\n",
       "        vertical-align: middle;\n",
       "    }\n",
       "\n",
       "    .dataframe tbody tr th {\n",
       "        vertical-align: top;\n",
       "    }\n",
       "\n",
       "    .dataframe thead th {\n",
       "        text-align: right;\n",
       "    }\n",
       "</style>\n",
       "<table border=\"1\" class=\"dataframe\">\n",
       "  <thead>\n",
       "    <tr style=\"text-align: right;\">\n",
       "      <th></th>\n",
       "      <th>product_id</th>\n",
       "      <th>product_category</th>\n",
       "      <th>product_name</th>\n",
       "      <th>product_price</th>\n",
       "      <th>scrapy_datetime</th>\n",
       "      <th>style_id</th>\n",
       "      <th>color_id</th>\n",
       "      <th>fit</th>\n",
       "      <th>size</th>\n",
       "      <th>color_name</th>\n",
       "      <th>description</th>\n",
       "      <th>material</th>\n",
       "      <th>inner_leg_size</th>\n",
       "      <th>waist_size</th>\n",
       "      <th>cotton</th>\n",
       "      <th>spandex</th>\n",
       "      <th>polyester</th>\n",
       "    </tr>\n",
       "  </thead>\n",
       "  <tbody>\n",
       "    <tr>\n",
       "      <th>0</th>\n",
       "      <td>971061004</td>\n",
       "      <td>men_jeans_slim</td>\n",
       "      <td>slim_tapered_cropped_jeans</td>\n",
       "      <td>29.99</td>\n",
       "      <td>2022-07-30 17:16:46</td>\n",
       "      <td>971061</td>\n",
       "      <td>4</td>\n",
       "      <td>slim_fit</td>\n",
       "      <td>0</td>\n",
       "      <td>pale_denim_blue</td>\n",
       "      <td>light_denim_blue</td>\n",
       "      <td>denim</td>\n",
       "      <td>0.00</td>\n",
       "      <td>0.00</td>\n",
       "      <td>0.99</td>\n",
       "      <td>0.01</td>\n",
       "      <td>0.00</td>\n",
       "    </tr>\n",
       "    <tr>\n",
       "      <th>1</th>\n",
       "      <td>971061004</td>\n",
       "      <td>men_jeans_slim</td>\n",
       "      <td>slim_tapered_cropped_jeans</td>\n",
       "      <td>29.99</td>\n",
       "      <td>2022-07-30 17:16:46</td>\n",
       "      <td>971061</td>\n",
       "      <td>4</td>\n",
       "      <td>slim_fit</td>\n",
       "      <td>0</td>\n",
       "      <td>pale_denim_blue</td>\n",
       "      <td>solid-color</td>\n",
       "      <td>denim</td>\n",
       "      <td>0.00</td>\n",
       "      <td>0.00</td>\n",
       "      <td>0.99</td>\n",
       "      <td>0.01</td>\n",
       "      <td>0.00</td>\n",
       "    </tr>\n",
       "    <tr>\n",
       "      <th>2</th>\n",
       "      <td>971061004</td>\n",
       "      <td>men_jeans_slim</td>\n",
       "      <td>slim_tapered_cropped_jeans</td>\n",
       "      <td>29.99</td>\n",
       "      <td>2022-07-30 17:16:46</td>\n",
       "      <td>971061</td>\n",
       "      <td>4</td>\n",
       "      <td>slim_fit</td>\n",
       "      <td>0</td>\n",
       "      <td>light_denim_blue</td>\n",
       "      <td>light_denim_blue</td>\n",
       "      <td>denim</td>\n",
       "      <td>0.00</td>\n",
       "      <td>0.00</td>\n",
       "      <td>0.99</td>\n",
       "      <td>0.01</td>\n",
       "      <td>0.00</td>\n",
       "    </tr>\n",
       "    <tr>\n",
       "      <th>3</th>\n",
       "      <td>971061004</td>\n",
       "      <td>men_jeans_slim</td>\n",
       "      <td>slim_tapered_cropped_jeans</td>\n",
       "      <td>29.99</td>\n",
       "      <td>2022-07-30 17:16:46</td>\n",
       "      <td>971061</td>\n",
       "      <td>4</td>\n",
       "      <td>slim_fit</td>\n",
       "      <td>0</td>\n",
       "      <td>light_denim_blue</td>\n",
       "      <td>solid-color</td>\n",
       "      <td>denim</td>\n",
       "      <td>0.00</td>\n",
       "      <td>0.00</td>\n",
       "      <td>0.99</td>\n",
       "      <td>0.01</td>\n",
       "      <td>0.00</td>\n",
       "    </tr>\n",
       "    <tr>\n",
       "      <th>4</th>\n",
       "      <td>971061004</td>\n",
       "      <td>men_jeans_slim</td>\n",
       "      <td>slim_tapered_cropped_jeans</td>\n",
       "      <td>29.99</td>\n",
       "      <td>2022-07-30 17:16:46</td>\n",
       "      <td>971061</td>\n",
       "      <td>4</td>\n",
       "      <td>slim_fit</td>\n",
       "      <td>0</td>\n",
       "      <td>dark_denim_gray</td>\n",
       "      <td>light_denim_blue</td>\n",
       "      <td>denim</td>\n",
       "      <td>0.00</td>\n",
       "      <td>0.00</td>\n",
       "      <td>0.99</td>\n",
       "      <td>0.01</td>\n",
       "      <td>0.00</td>\n",
       "    </tr>\n",
       "  </tbody>\n",
       "</table>\n",
       "</div>"
      ],
      "text/plain": [
       "   product_id product_category                product_name  product_price  \\\n",
       "0   971061004   men_jeans_slim  slim_tapered_cropped_jeans          29.99   \n",
       "1   971061004   men_jeans_slim  slim_tapered_cropped_jeans          29.99   \n",
       "2   971061004   men_jeans_slim  slim_tapered_cropped_jeans          29.99   \n",
       "3   971061004   men_jeans_slim  slim_tapered_cropped_jeans          29.99   \n",
       "4   971061004   men_jeans_slim  slim_tapered_cropped_jeans          29.99   \n",
       "\n",
       "       scrapy_datetime  style_id  color_id       fit  size        color_name  \\\n",
       "0  2022-07-30 17:16:46    971061         4  slim_fit     0   pale_denim_blue   \n",
       "1  2022-07-30 17:16:46    971061         4  slim_fit     0   pale_denim_blue   \n",
       "2  2022-07-30 17:16:46    971061         4  slim_fit     0  light_denim_blue   \n",
       "3  2022-07-30 17:16:46    971061         4  slim_fit     0  light_denim_blue   \n",
       "4  2022-07-30 17:16:46    971061         4  slim_fit     0   dark_denim_gray   \n",
       "\n",
       "        description material  inner_leg_size  waist_size  cotton  spandex  \\\n",
       "0  light_denim_blue    denim            0.00        0.00    0.99     0.01   \n",
       "1       solid-color    denim            0.00        0.00    0.99     0.01   \n",
       "2  light_denim_blue    denim            0.00        0.00    0.99     0.01   \n",
       "3       solid-color    denim            0.00        0.00    0.99     0.01   \n",
       "4  light_denim_blue    denim            0.00        0.00    0.99     0.01   \n",
       "\n",
       "   polyester  \n",
       "0       0.00  \n",
       "1       0.00  \n",
       "2       0.00  \n",
       "3       0.00  \n",
       "4       0.00  "
      ]
     },
     "execution_count": 44,
     "metadata": {},
     "output_type": "execute_result"
    }
   ],
   "source": [
    "# Saving model\n",
    "#data1.to_csv('F:/SamuelOliveiraAlvesd/Desktop/Data_Science/Projetos/Ds_ao_Dev/webscraping_jeans/dataset/scraping_hm_clean.csv', index=False)\n",
    "\n",
    "data1.head()"
   ]
  },
  {
   "cell_type": "code",
   "execution_count": 41,
   "id": "8500a9ff",
   "metadata": {
    "ExecuteTime": {
     "end_time": "2022-07-31T00:26:23.586958Z",
     "start_time": "2022-07-31T00:26:23.563968Z"
    }
   },
   "outputs": [],
   "source": [
    "# loading data\n",
    "data1 = pd.read_csv('F:/SamuelOliveiraAlvesd/Desktop/Data_Science/Projetos/Ds_ao_Dev/webscraping_jeans/dataset/scraping_hm_clean.csv', low_memory=False)"
   ]
  },
  {
   "cell_type": "code",
   "execution_count": 58,
   "id": "5600470d",
   "metadata": {
    "ExecuteTime": {
     "end_time": "2022-07-31T00:39:35.231068Z",
     "start_time": "2022-07-31T00:39:35.212079Z"
    }
   },
   "outputs": [],
   "source": [
    "# create query from name of columns in database\n",
    "query_showroom_schema = \"\"\"\n",
    "    CREATE TABLE showroom (\n",
    "        product_id         INTEGER,\n",
    "        product_category   TEXT,\n",
    "        product_name       TEXT,\n",
    "        product_price      REAL,\n",
    "        scrapy_datetime    TEXT,\n",
    "        style_id           INTEGER,\n",
    "        color_id           INTEGER,\n",
    "        fit                TEXT,\n",
    "        size               INTEGER,\n",
    "        color_name         TEXT,\n",
    "        description        TEXT,\n",
    "        material           TEXT,\n",
    "        composition        TEXT,\n",
    "        inner_leg_size     REAL,\n",
    "        waist_size         REAL,\n",
    "        cotton             REAL,\n",
    "        spandex            REAL,\n",
    "        polyester          REAL\n",
    "        )\n",
    "\"\"\""
   ]
  },
  {
   "cell_type": "code",
   "execution_count": 59,
   "id": "0797aa39",
   "metadata": {
    "ExecuteTime": {
     "end_time": "2022-07-31T00:40:03.489087Z",
     "start_time": "2022-07-31T00:40:03.461093Z"
    }
   },
   "outputs": [],
   "source": [
    "# Connect and create an database\n",
    "conn = sqlite3.connect('hm_db.sqlite')\n",
    "\n",
    "# run query\n",
    "cursor = conn.execute(query_showroom_schema)\n",
    "conn.commit()\n",
    "conn.close()"
   ]
  },
  {
   "cell_type": "code",
   "execution_count": 60,
   "id": "e9c8ae00",
   "metadata": {
    "ExecuteTime": {
     "end_time": "2022-07-31T00:40:06.098808Z",
     "start_time": "2022-07-31T00:40:06.083814Z"
    }
   },
   "outputs": [],
   "source": [
    "# connect in the database already create\n",
    "conn = create_engine('sqlite:///hm_db.sqlite', echo=False)"
   ]
  },
  {
   "cell_type": "code",
   "execution_count": 65,
   "id": "c0cd9e09",
   "metadata": {
    "ExecuteTime": {
     "end_time": "2022-07-31T00:41:01.802937Z",
     "start_time": "2022-07-31T00:41:01.786936Z"
    }
   },
   "outputs": [],
   "source": [
    "# select the schema\n",
    "query = \"\"\"\n",
    "    SELECT * FROM showroom\n",
    "    \"\"\"\n",
    "\n",
    "# read database and save into pandas\n",
    "df = pd.read_sql_query(query, conn)"
   ]
  },
  {
   "cell_type": "code",
   "execution_count": 63,
   "id": "13e022ab",
   "metadata": {
    "ExecuteTime": {
     "end_time": "2022-07-31T00:40:11.534514Z",
     "start_time": "2022-07-31T00:40:11.492530Z"
    }
   },
   "outputs": [
    {
     "data": {
      "text/plain": [
       "576"
      ]
     },
     "execution_count": 63,
     "metadata": {},
     "output_type": "execute_result"
    }
   ],
   "source": [
    "# insert data to table\n",
    "data1.to_sql('showroom', con=conn, if_exists='append', index=False)"
   ]
  },
  {
   "cell_type": "code",
   "execution_count": 66,
   "id": "c89970ae",
   "metadata": {
    "ExecuteTime": {
     "end_time": "2022-07-31T00:41:02.761443Z",
     "start_time": "2022-07-31T00:41:02.732434Z"
    }
   },
   "outputs": [
    {
     "data": {
      "text/html": [
       "<div>\n",
       "<style scoped>\n",
       "    .dataframe tbody tr th:only-of-type {\n",
       "        vertical-align: middle;\n",
       "    }\n",
       "\n",
       "    .dataframe tbody tr th {\n",
       "        vertical-align: top;\n",
       "    }\n",
       "\n",
       "    .dataframe thead th {\n",
       "        text-align: right;\n",
       "    }\n",
       "</style>\n",
       "<table border=\"1\" class=\"dataframe\">\n",
       "  <thead>\n",
       "    <tr style=\"text-align: right;\">\n",
       "      <th></th>\n",
       "      <th>product_id</th>\n",
       "      <th>product_category</th>\n",
       "      <th>product_name</th>\n",
       "      <th>product_price</th>\n",
       "      <th>scrapy_datetime</th>\n",
       "      <th>style_id</th>\n",
       "      <th>color_id</th>\n",
       "      <th>fit</th>\n",
       "      <th>size</th>\n",
       "      <th>color_name</th>\n",
       "      <th>description</th>\n",
       "      <th>material</th>\n",
       "      <th>composition</th>\n",
       "      <th>inner_leg_size</th>\n",
       "      <th>waist_size</th>\n",
       "      <th>cotton</th>\n",
       "      <th>spandex</th>\n",
       "      <th>polyester</th>\n",
       "    </tr>\n",
       "  </thead>\n",
       "  <tbody>\n",
       "    <tr>\n",
       "      <th>0</th>\n",
       "      <td>971061004</td>\n",
       "      <td>men_jeans_slim</td>\n",
       "      <td>slim_tapered_cropped_jeans</td>\n",
       "      <td>29.99</td>\n",
       "      <td>2022-07-30 17:16:46</td>\n",
       "      <td>971061</td>\n",
       "      <td>4</td>\n",
       "      <td>slim_fit</td>\n",
       "      <td>0</td>\n",
       "      <td>pale_denim_blue</td>\n",
       "      <td>light_denim_blue</td>\n",
       "      <td>denim</td>\n",
       "      <td>None</td>\n",
       "      <td>0.00</td>\n",
       "      <td>0.00</td>\n",
       "      <td>0.99</td>\n",
       "      <td>0.01</td>\n",
       "      <td>0.00</td>\n",
       "    </tr>\n",
       "    <tr>\n",
       "      <th>1</th>\n",
       "      <td>971061004</td>\n",
       "      <td>men_jeans_slim</td>\n",
       "      <td>slim_tapered_cropped_jeans</td>\n",
       "      <td>29.99</td>\n",
       "      <td>2022-07-30 17:16:46</td>\n",
       "      <td>971061</td>\n",
       "      <td>4</td>\n",
       "      <td>slim_fit</td>\n",
       "      <td>0</td>\n",
       "      <td>pale_denim_blue</td>\n",
       "      <td>solid-color</td>\n",
       "      <td>denim</td>\n",
       "      <td>None</td>\n",
       "      <td>0.00</td>\n",
       "      <td>0.00</td>\n",
       "      <td>0.99</td>\n",
       "      <td>0.01</td>\n",
       "      <td>0.00</td>\n",
       "    </tr>\n",
       "    <tr>\n",
       "      <th>2</th>\n",
       "      <td>971061004</td>\n",
       "      <td>men_jeans_slim</td>\n",
       "      <td>slim_tapered_cropped_jeans</td>\n",
       "      <td>29.99</td>\n",
       "      <td>2022-07-30 17:16:46</td>\n",
       "      <td>971061</td>\n",
       "      <td>4</td>\n",
       "      <td>slim_fit</td>\n",
       "      <td>0</td>\n",
       "      <td>light_denim_blue</td>\n",
       "      <td>light_denim_blue</td>\n",
       "      <td>denim</td>\n",
       "      <td>None</td>\n",
       "      <td>0.00</td>\n",
       "      <td>0.00</td>\n",
       "      <td>0.99</td>\n",
       "      <td>0.01</td>\n",
       "      <td>0.00</td>\n",
       "    </tr>\n",
       "    <tr>\n",
       "      <th>3</th>\n",
       "      <td>971061004</td>\n",
       "      <td>men_jeans_slim</td>\n",
       "      <td>slim_tapered_cropped_jeans</td>\n",
       "      <td>29.99</td>\n",
       "      <td>2022-07-30 17:16:46</td>\n",
       "      <td>971061</td>\n",
       "      <td>4</td>\n",
       "      <td>slim_fit</td>\n",
       "      <td>0</td>\n",
       "      <td>light_denim_blue</td>\n",
       "      <td>solid-color</td>\n",
       "      <td>denim</td>\n",
       "      <td>None</td>\n",
       "      <td>0.00</td>\n",
       "      <td>0.00</td>\n",
       "      <td>0.99</td>\n",
       "      <td>0.01</td>\n",
       "      <td>0.00</td>\n",
       "    </tr>\n",
       "    <tr>\n",
       "      <th>4</th>\n",
       "      <td>971061004</td>\n",
       "      <td>men_jeans_slim</td>\n",
       "      <td>slim_tapered_cropped_jeans</td>\n",
       "      <td>29.99</td>\n",
       "      <td>2022-07-30 17:16:46</td>\n",
       "      <td>971061</td>\n",
       "      <td>4</td>\n",
       "      <td>slim_fit</td>\n",
       "      <td>0</td>\n",
       "      <td>dark_denim_gray</td>\n",
       "      <td>light_denim_blue</td>\n",
       "      <td>denim</td>\n",
       "      <td>None</td>\n",
       "      <td>0.00</td>\n",
       "      <td>0.00</td>\n",
       "      <td>0.99</td>\n",
       "      <td>0.01</td>\n",
       "      <td>0.00</td>\n",
       "    </tr>\n",
       "    <tr>\n",
       "      <th>...</th>\n",
       "      <td>...</td>\n",
       "      <td>...</td>\n",
       "      <td>...</td>\n",
       "      <td>...</td>\n",
       "      <td>...</td>\n",
       "      <td>...</td>\n",
       "      <td>...</td>\n",
       "      <td>...</td>\n",
       "      <td>...</td>\n",
       "      <td>...</td>\n",
       "      <td>...</td>\n",
       "      <td>...</td>\n",
       "      <td>...</td>\n",
       "      <td>...</td>\n",
       "      <td>...</td>\n",
       "      <td>...</td>\n",
       "      <td>...</td>\n",
       "      <td>...</td>\n",
       "    </tr>\n",
       "    <tr>\n",
       "      <th>571</th>\n",
       "      <td>971061005</td>\n",
       "      <td>men_jeans_slim</td>\n",
       "      <td>slim_tapered_cropped_jeans</td>\n",
       "      <td>29.99</td>\n",
       "      <td>2022-07-30 17:16:46</td>\n",
       "      <td>971061</td>\n",
       "      <td>5</td>\n",
       "      <td>slim_fit</td>\n",
       "      <td>0</td>\n",
       "      <td>denim_blue</td>\n",
       "      <td>solid-color</td>\n",
       "      <td>denim</td>\n",
       "      <td>None</td>\n",
       "      <td>0.00</td>\n",
       "      <td>0.00</td>\n",
       "      <td>0.99</td>\n",
       "      <td>0.01</td>\n",
       "      <td>0.00</td>\n",
       "    </tr>\n",
       "    <tr>\n",
       "      <th>572</th>\n",
       "      <td>971061005</td>\n",
       "      <td>men_jeans_slim</td>\n",
       "      <td>slim_tapered_cropped_jeans</td>\n",
       "      <td>29.99</td>\n",
       "      <td>2022-07-30 17:16:46</td>\n",
       "      <td>971061</td>\n",
       "      <td>5</td>\n",
       "      <td>slim_fit</td>\n",
       "      <td>0</td>\n",
       "      <td>pale_denim_blue</td>\n",
       "      <td>dark_denim_gray</td>\n",
       "      <td>denim</td>\n",
       "      <td>None</td>\n",
       "      <td>0.00</td>\n",
       "      <td>0.00</td>\n",
       "      <td>0.99</td>\n",
       "      <td>0.01</td>\n",
       "      <td>0.00</td>\n",
       "    </tr>\n",
       "    <tr>\n",
       "      <th>573</th>\n",
       "      <td>971061005</td>\n",
       "      <td>men_jeans_slim</td>\n",
       "      <td>slim_tapered_cropped_jeans</td>\n",
       "      <td>29.99</td>\n",
       "      <td>2022-07-30 17:16:46</td>\n",
       "      <td>971061</td>\n",
       "      <td>5</td>\n",
       "      <td>slim_fit</td>\n",
       "      <td>0</td>\n",
       "      <td>light_denim_blue</td>\n",
       "      <td>dark_denim_gray</td>\n",
       "      <td>denim</td>\n",
       "      <td>None</td>\n",
       "      <td>0.00</td>\n",
       "      <td>0.00</td>\n",
       "      <td>0.99</td>\n",
       "      <td>0.01</td>\n",
       "      <td>0.00</td>\n",
       "    </tr>\n",
       "    <tr>\n",
       "      <th>574</th>\n",
       "      <td>971061005</td>\n",
       "      <td>men_jeans_slim</td>\n",
       "      <td>slim_tapered_cropped_jeans</td>\n",
       "      <td>29.99</td>\n",
       "      <td>2022-07-30 17:16:46</td>\n",
       "      <td>971061</td>\n",
       "      <td>5</td>\n",
       "      <td>slim_fit</td>\n",
       "      <td>0</td>\n",
       "      <td>dark_denim_gray</td>\n",
       "      <td>dark_denim_gray</td>\n",
       "      <td>denim</td>\n",
       "      <td>None</td>\n",
       "      <td>0.00</td>\n",
       "      <td>0.00</td>\n",
       "      <td>0.99</td>\n",
       "      <td>0.01</td>\n",
       "      <td>0.00</td>\n",
       "    </tr>\n",
       "    <tr>\n",
       "      <th>575</th>\n",
       "      <td>971061005</td>\n",
       "      <td>men_jeans_slim</td>\n",
       "      <td>slim_tapered_cropped_jeans</td>\n",
       "      <td>29.99</td>\n",
       "      <td>2022-07-30 17:16:46</td>\n",
       "      <td>971061</td>\n",
       "      <td>5</td>\n",
       "      <td>slim_fit</td>\n",
       "      <td>0</td>\n",
       "      <td>denim_blue</td>\n",
       "      <td>dark_denim_gray</td>\n",
       "      <td>denim</td>\n",
       "      <td>None</td>\n",
       "      <td>0.00</td>\n",
       "      <td>0.00</td>\n",
       "      <td>0.99</td>\n",
       "      <td>0.01</td>\n",
       "      <td>0.00</td>\n",
       "    </tr>\n",
       "  </tbody>\n",
       "</table>\n",
       "<p>576 rows × 18 columns</p>\n",
       "</div>"
      ],
      "text/plain": [
       "     product_id product_category                product_name  product_price  \\\n",
       "0     971061004   men_jeans_slim  slim_tapered_cropped_jeans          29.99   \n",
       "1     971061004   men_jeans_slim  slim_tapered_cropped_jeans          29.99   \n",
       "2     971061004   men_jeans_slim  slim_tapered_cropped_jeans          29.99   \n",
       "3     971061004   men_jeans_slim  slim_tapered_cropped_jeans          29.99   \n",
       "4     971061004   men_jeans_slim  slim_tapered_cropped_jeans          29.99   \n",
       "..          ...              ...                         ...            ...   \n",
       "571   971061005   men_jeans_slim  slim_tapered_cropped_jeans          29.99   \n",
       "572   971061005   men_jeans_slim  slim_tapered_cropped_jeans          29.99   \n",
       "573   971061005   men_jeans_slim  slim_tapered_cropped_jeans          29.99   \n",
       "574   971061005   men_jeans_slim  slim_tapered_cropped_jeans          29.99   \n",
       "575   971061005   men_jeans_slim  slim_tapered_cropped_jeans          29.99   \n",
       "\n",
       "         scrapy_datetime  style_id  color_id       fit  size  \\\n",
       "0    2022-07-30 17:16:46    971061         4  slim_fit     0   \n",
       "1    2022-07-30 17:16:46    971061         4  slim_fit     0   \n",
       "2    2022-07-30 17:16:46    971061         4  slim_fit     0   \n",
       "3    2022-07-30 17:16:46    971061         4  slim_fit     0   \n",
       "4    2022-07-30 17:16:46    971061         4  slim_fit     0   \n",
       "..                   ...       ...       ...       ...   ...   \n",
       "571  2022-07-30 17:16:46    971061         5  slim_fit     0   \n",
       "572  2022-07-30 17:16:46    971061         5  slim_fit     0   \n",
       "573  2022-07-30 17:16:46    971061         5  slim_fit     0   \n",
       "574  2022-07-30 17:16:46    971061         5  slim_fit     0   \n",
       "575  2022-07-30 17:16:46    971061         5  slim_fit     0   \n",
       "\n",
       "           color_name       description material composition  inner_leg_size  \\\n",
       "0     pale_denim_blue  light_denim_blue    denim        None            0.00   \n",
       "1     pale_denim_blue       solid-color    denim        None            0.00   \n",
       "2    light_denim_blue  light_denim_blue    denim        None            0.00   \n",
       "3    light_denim_blue       solid-color    denim        None            0.00   \n",
       "4     dark_denim_gray  light_denim_blue    denim        None            0.00   \n",
       "..                ...               ...      ...         ...             ...   \n",
       "571        denim_blue       solid-color    denim        None            0.00   \n",
       "572   pale_denim_blue   dark_denim_gray    denim        None            0.00   \n",
       "573  light_denim_blue   dark_denim_gray    denim        None            0.00   \n",
       "574   dark_denim_gray   dark_denim_gray    denim        None            0.00   \n",
       "575        denim_blue   dark_denim_gray    denim        None            0.00   \n",
       "\n",
       "     waist_size  cotton  spandex  polyester  \n",
       "0          0.00    0.99     0.01       0.00  \n",
       "1          0.00    0.99     0.01       0.00  \n",
       "2          0.00    0.99     0.01       0.00  \n",
       "3          0.00    0.99     0.01       0.00  \n",
       "4          0.00    0.99     0.01       0.00  \n",
       "..          ...     ...      ...        ...  \n",
       "571        0.00    0.99     0.01       0.00  \n",
       "572        0.00    0.99     0.01       0.00  \n",
       "573        0.00    0.99     0.01       0.00  \n",
       "574        0.00    0.99     0.01       0.00  \n",
       "575        0.00    0.99     0.01       0.00  \n",
       "\n",
       "[576 rows x 18 columns]"
      ]
     },
     "execution_count": 66,
     "metadata": {},
     "output_type": "execute_result"
    }
   ],
   "source": [
    "# verify if database has all datas\n",
    "query = \"\"\"\n",
    "    SELECT * FROM showroom\n",
    "    \"\"\"\n",
    "df = pd.read_sql_query(query, conn)\n",
    "\n",
    "df.head()"
   ]
  },
  {
   "cell_type": "code",
   "execution_count": null,
   "id": "a444522a",
   "metadata": {},
   "outputs": [],
   "source": []
  }
 ],
 "metadata": {
  "kernelspec": {
   "display_name": "Python 3 (ipykernel)",
   "language": "python",
   "name": "python3"
  },
  "language_info": {
   "codemirror_mode": {
    "name": "ipython",
    "version": 3
   },
   "file_extension": ".py",
   "mimetype": "text/x-python",
   "name": "python",
   "nbconvert_exporter": "python",
   "pygments_lexer": "ipython3",
   "version": "3.9.12"
  }
 },
 "nbformat": 4,
 "nbformat_minor": 5
}
